{
 "cells": [
  {
   "cell_type": "markdown",
   "metadata": {},
   "source": [
    "### OECD DATA SCRAPING"
   ]
  },
  {
   "cell_type": "code",
   "execution_count": 1,
   "metadata": {},
   "outputs": [],
   "source": [
    "# OECD Data Scraping\n",
    "# pip install sdmx\n",
    "# import pandasdmx as sdmx\n",
    "# sdmx.list_sources()"
   ]
  },
  {
   "cell_type": "code",
   "execution_count": 2,
   "metadata": {},
   "outputs": [],
   "source": [
    "# Go to OECD Web\n",
    "#   >>> Find data\n",
    "#   >>> Go to Export\n",
    "#   >>> SDMX (XML)\n",
    "#   >>> Get SDMX DATA URL\n",
    "#   >>> Make resource_id & key\n",
    "#   >>> Run the Script\n",
    "# SDMX DATA URL: https://stats.oecd.org/restsdmx/sdmx.ashx/GetData/HIGH_AGLINK_2010/WLD+O29+NME+DVD+DVG+LDC+CAN+USA+AUS+NZL+MEX+KOR+JPN+TUR+CHL+E27+RUS+UKR+DZA+EGY+SSA+ZAF+ARG+BRA+URY+BGD+CHN+IND+IDN+IRN+MYS+PAK+SAU.WT+CG+RI+OS+PM+VL+BV+PK+PT+SH+BT+CH+SMP+WMP+MK+WYP+CA+SU+SUR+SUW+ET+BD.QP+IM+QC+ST+EX+NT+AH+CI+CR+FE+FO+OU+YLD+XP+PP+MP+IMP+PC/all?startTime=2000&endTime=2019"
   ]
  },
  {
   "cell_type": "code",
   "execution_count": 3,
   "metadata": {},
   "outputs": [
    {
     "name": "stderr",
     "output_type": "stream",
     "text": [
      "c:\\Users\\engin\\AppData\\Local\\Programs\\Python\\Python39\\lib\\site-packages\\requests\\__init__.py:102: RequestsDependencyWarning: urllib3 (1.26.9) or chardet (5.0.0)/charset_normalizer (2.0.12) doesn't match a supported version!\n",
      "  warnings.warn(\"urllib3 ({}) or chardet ({})/charset_normalizer ({}) doesn't match a supported \"\n"
     ]
    }
   ],
   "source": [
    "import pandas as pd\n",
    "import numpy as np\n",
    "import pandasdmx as sdmx\n",
    "\n",
    "import warnings\n",
    "warnings.filterwarnings(\"ignore\")\n",
    "warnings.warn(\"this will not show\")"
   ]
  },
  {
   "cell_type": "code",
   "execution_count": 4,
   "metadata": {},
   "outputs": [],
   "source": [
    "# import pandasdmx as pdmx\n",
    "# # Tell pdmx we want OECD data\n",
    "# oecd = pdmx.Request(\"OECD\")\n",
    "# # Set out everything about the request in the format specified by the OECD API\n",
    "# data_resource_id=\"HIGH_AGLINK_2010\"\n",
    "# data_key=\"all\"\n",
    "# data = oecd.data(resource_id=data_resource_id, key=data_key)\n",
    "# data = data.to_pandas()\n",
    "# df = pd.DataFrame(data).reset_index()\n",
    "# df.head()"
   ]
  },
  {
   "cell_type": "code",
   "execution_count": 5,
   "metadata": {},
   "outputs": [],
   "source": [
    "# df.to_csv(\"oecd_agr_data.csv\")"
   ]
  },
  {
   "cell_type": "code",
   "execution_count": 6,
   "metadata": {},
   "outputs": [],
   "source": [
    "df = pd.read_csv(\"oecd_agr_data.csv\")\n",
    "df.drop(\"Unnamed: 0\", axis=1, inplace=True)"
   ]
  },
  {
   "cell_type": "code",
   "execution_count": 7,
   "metadata": {},
   "outputs": [],
   "source": [
    "df_abbr = pd.read_csv(\"oecd_data.csv\")"
   ]
  },
  {
   "cell_type": "code",
   "execution_count": 8,
   "metadata": {},
   "outputs": [],
   "source": [
    "df.insert(1, \"Country\", df.iloc[:,0])\n",
    "df.insert(3, \"Commodity\", df.iloc[:,2])\n",
    "df.insert(5, \"Variable\", df.iloc[:,4])"
   ]
  },
  {
   "cell_type": "code",
   "execution_count": 9,
   "metadata": {},
   "outputs": [
    {
     "name": "stdout",
     "output_type": "stream",
     "text": [
      "(112364, 8)\n",
      "(112364, 11)\n"
     ]
    }
   ],
   "source": [
    "print(df.shape)\n",
    "print(df_abbr.shape)"
   ]
  },
  {
   "cell_type": "code",
   "execution_count": 10,
   "metadata": {},
   "outputs": [
    {
     "data": {
      "text/html": [
       "<div>\n",
       "<style scoped>\n",
       "    .dataframe tbody tr th:only-of-type {\n",
       "        vertical-align: middle;\n",
       "    }\n",
       "\n",
       "    .dataframe tbody tr th {\n",
       "        vertical-align: top;\n",
       "    }\n",
       "\n",
       "    .dataframe thead th {\n",
       "        text-align: right;\n",
       "    }\n",
       "</style>\n",
       "<table border=\"1\" class=\"dataframe\">\n",
       "  <thead>\n",
       "    <tr style=\"text-align: right;\">\n",
       "      <th></th>\n",
       "      <th>COUNTRY</th>\n",
       "      <th>Country</th>\n",
       "      <th>COMMODITY</th>\n",
       "      <th>Commodity</th>\n",
       "      <th>VARIABLE</th>\n",
       "      <th>Variable</th>\n",
       "      <th>TIME_PERIOD</th>\n",
       "      <th>value</th>\n",
       "    </tr>\n",
       "  </thead>\n",
       "  <tbody>\n",
       "    <tr>\n",
       "      <th>0</th>\n",
       "      <td>ARG</td>\n",
       "      <td>ARG</td>\n",
       "      <td>BD</td>\n",
       "      <td>BD</td>\n",
       "      <td>NT</td>\n",
       "      <td>NT</td>\n",
       "      <td>2004</td>\n",
       "      <td>0.0</td>\n",
       "    </tr>\n",
       "  </tbody>\n",
       "</table>\n",
       "</div>"
      ],
      "text/plain": [
       "  COUNTRY Country COMMODITY Commodity VARIABLE Variable  TIME_PERIOD  value\n",
       "0     ARG     ARG        BD        BD       NT       NT         2004    0.0"
      ]
     },
     "execution_count": 10,
     "metadata": {},
     "output_type": "execute_result"
    }
   ],
   "source": [
    "df.head(1)"
   ]
  },
  {
   "cell_type": "code",
   "execution_count": 11,
   "metadata": {},
   "outputs": [
    {
     "data": {
      "text/html": [
       "<div>\n",
       "<style scoped>\n",
       "    .dataframe tbody tr th:only-of-type {\n",
       "        vertical-align: middle;\n",
       "    }\n",
       "\n",
       "    .dataframe tbody tr th {\n",
       "        vertical-align: top;\n",
       "    }\n",
       "\n",
       "    .dataframe thead th {\n",
       "        text-align: right;\n",
       "    }\n",
       "</style>\n",
       "<table border=\"1\" class=\"dataframe\">\n",
       "  <thead>\n",
       "    <tr style=\"text-align: right;\">\n",
       "      <th></th>\n",
       "      <th>COUNTRY</th>\n",
       "      <th>Country</th>\n",
       "      <th>COMMODITY</th>\n",
       "      <th>Commodity</th>\n",
       "      <th>VARIABLE</th>\n",
       "      <th>Variable</th>\n",
       "      <th>TIME</th>\n",
       "      <th>Time</th>\n",
       "      <th>Value</th>\n",
       "      <th>Flag Codes</th>\n",
       "      <th>Flags</th>\n",
       "    </tr>\n",
       "  </thead>\n",
       "  <tbody>\n",
       "    <tr>\n",
       "      <th>0</th>\n",
       "      <td>WLD</td>\n",
       "      <td>World</td>\n",
       "      <td>WT</td>\n",
       "      <td>Wheat</td>\n",
       "      <td>QP</td>\n",
       "      <td>Production, kt (for Biofuels in millions of li...</td>\n",
       "      <td>2000</td>\n",
       "      <td>2000</td>\n",
       "      <td>585762.084553</td>\n",
       "      <td>NaN</td>\n",
       "      <td>NaN</td>\n",
       "    </tr>\n",
       "  </tbody>\n",
       "</table>\n",
       "</div>"
      ],
      "text/plain": [
       "  COUNTRY Country COMMODITY Commodity VARIABLE  \\\n",
       "0     WLD   World        WT     Wheat       QP   \n",
       "\n",
       "                                            Variable  TIME  Time  \\\n",
       "0  Production, kt (for Biofuels in millions of li...  2000  2000   \n",
       "\n",
       "           Value  Flag Codes  Flags  \n",
       "0  585762.084553         NaN    NaN  "
      ]
     },
     "execution_count": 11,
     "metadata": {},
     "output_type": "execute_result"
    }
   ],
   "source": [
    "df_abbr.head(1)"
   ]
  },
  {
   "cell_type": "code",
   "execution_count": 12,
   "metadata": {},
   "outputs": [],
   "source": [
    "drop_list = [\"DVD\", \"DVG\", \"E27\", \"LDC\", \"NME\", \"O29\", \"WLD\"]\n",
    "for i in drop_list:\n",
    "    df.drop(df[df[\"COUNTRY\"]==i].index, inplace=True)"
   ]
  },
  {
   "cell_type": "code",
   "execution_count": 13,
   "metadata": {},
   "outputs": [
    {
     "data": {
      "text/html": [
       "<div>\n",
       "<style scoped>\n",
       "    .dataframe tbody tr th:only-of-type {\n",
       "        vertical-align: middle;\n",
       "    }\n",
       "\n",
       "    .dataframe tbody tr th {\n",
       "        vertical-align: top;\n",
       "    }\n",
       "\n",
       "    .dataframe thead th {\n",
       "        text-align: right;\n",
       "    }\n",
       "</style>\n",
       "<table border=\"1\" class=\"dataframe\">\n",
       "  <thead>\n",
       "    <tr style=\"text-align: right;\">\n",
       "      <th></th>\n",
       "      <th>index</th>\n",
       "      <th>COUNTRY</th>\n",
       "      <th>Country</th>\n",
       "      <th>COMMODITY</th>\n",
       "      <th>Commodity</th>\n",
       "      <th>VARIABLE</th>\n",
       "      <th>Variable</th>\n",
       "      <th>TIME_PERIOD</th>\n",
       "      <th>value</th>\n",
       "    </tr>\n",
       "  </thead>\n",
       "  <tbody>\n",
       "    <tr>\n",
       "      <th>0</th>\n",
       "      <td>0</td>\n",
       "      <td>ARG</td>\n",
       "      <td>ARG</td>\n",
       "      <td>BD</td>\n",
       "      <td>BD</td>\n",
       "      <td>NT</td>\n",
       "      <td>NT</td>\n",
       "      <td>2004</td>\n",
       "      <td>0.000000</td>\n",
       "    </tr>\n",
       "    <tr>\n",
       "      <th>1</th>\n",
       "      <td>1</td>\n",
       "      <td>ARG</td>\n",
       "      <td>ARG</td>\n",
       "      <td>BD</td>\n",
       "      <td>BD</td>\n",
       "      <td>NT</td>\n",
       "      <td>NT</td>\n",
       "      <td>2005</td>\n",
       "      <td>0.000000</td>\n",
       "    </tr>\n",
       "    <tr>\n",
       "      <th>2</th>\n",
       "      <td>2</td>\n",
       "      <td>ARG</td>\n",
       "      <td>ARG</td>\n",
       "      <td>BD</td>\n",
       "      <td>BD</td>\n",
       "      <td>NT</td>\n",
       "      <td>NT</td>\n",
       "      <td>2006</td>\n",
       "      <td>0.000000</td>\n",
       "    </tr>\n",
       "    <tr>\n",
       "      <th>3</th>\n",
       "      <td>3</td>\n",
       "      <td>ARG</td>\n",
       "      <td>ARG</td>\n",
       "      <td>BD</td>\n",
       "      <td>BD</td>\n",
       "      <td>NT</td>\n",
       "      <td>NT</td>\n",
       "      <td>2007</td>\n",
       "      <td>459.090909</td>\n",
       "    </tr>\n",
       "    <tr>\n",
       "      <th>4</th>\n",
       "      <td>4</td>\n",
       "      <td>ARG</td>\n",
       "      <td>ARG</td>\n",
       "      <td>BD</td>\n",
       "      <td>BD</td>\n",
       "      <td>NT</td>\n",
       "      <td>NT</td>\n",
       "      <td>2008</td>\n",
       "      <td>1400.000000</td>\n",
       "    </tr>\n",
       "    <tr>\n",
       "      <th>...</th>\n",
       "      <td>...</td>\n",
       "      <td>...</td>\n",
       "      <td>...</td>\n",
       "      <td>...</td>\n",
       "      <td>...</td>\n",
       "      <td>...</td>\n",
       "      <td>...</td>\n",
       "      <td>...</td>\n",
       "      <td>...</td>\n",
       "    </tr>\n",
       "    <tr>\n",
       "      <th>91824</th>\n",
       "      <td>112359</td>\n",
       "      <td>ZAF</td>\n",
       "      <td>ZAF</td>\n",
       "      <td>WT</td>\n",
       "      <td>WT</td>\n",
       "      <td>YLD</td>\n",
       "      <td>YLD</td>\n",
       "      <td>2015</td>\n",
       "      <td>2.973232</td>\n",
       "    </tr>\n",
       "    <tr>\n",
       "      <th>91825</th>\n",
       "      <td>112360</td>\n",
       "      <td>ZAF</td>\n",
       "      <td>ZAF</td>\n",
       "      <td>WT</td>\n",
       "      <td>WT</td>\n",
       "      <td>YLD</td>\n",
       "      <td>YLD</td>\n",
       "      <td>2016</td>\n",
       "      <td>2.991035</td>\n",
       "    </tr>\n",
       "    <tr>\n",
       "      <th>91826</th>\n",
       "      <td>112361</td>\n",
       "      <td>ZAF</td>\n",
       "      <td>ZAF</td>\n",
       "      <td>WT</td>\n",
       "      <td>WT</td>\n",
       "      <td>YLD</td>\n",
       "      <td>YLD</td>\n",
       "      <td>2017</td>\n",
       "      <td>3.004720</td>\n",
       "    </tr>\n",
       "    <tr>\n",
       "      <th>91827</th>\n",
       "      <td>112362</td>\n",
       "      <td>ZAF</td>\n",
       "      <td>ZAF</td>\n",
       "      <td>WT</td>\n",
       "      <td>WT</td>\n",
       "      <td>YLD</td>\n",
       "      <td>YLD</td>\n",
       "      <td>2018</td>\n",
       "      <td>3.018791</td>\n",
       "    </tr>\n",
       "    <tr>\n",
       "      <th>91828</th>\n",
       "      <td>112363</td>\n",
       "      <td>ZAF</td>\n",
       "      <td>ZAF</td>\n",
       "      <td>WT</td>\n",
       "      <td>WT</td>\n",
       "      <td>YLD</td>\n",
       "      <td>YLD</td>\n",
       "      <td>2019</td>\n",
       "      <td>3.033136</td>\n",
       "    </tr>\n",
       "  </tbody>\n",
       "</table>\n",
       "<p>91829 rows × 9 columns</p>\n",
       "</div>"
      ],
      "text/plain": [
       "        index COUNTRY Country COMMODITY Commodity VARIABLE Variable  \\\n",
       "0           0     ARG     ARG        BD        BD       NT       NT   \n",
       "1           1     ARG     ARG        BD        BD       NT       NT   \n",
       "2           2     ARG     ARG        BD        BD       NT       NT   \n",
       "3           3     ARG     ARG        BD        BD       NT       NT   \n",
       "4           4     ARG     ARG        BD        BD       NT       NT   \n",
       "...       ...     ...     ...       ...       ...      ...      ...   \n",
       "91824  112359     ZAF     ZAF        WT        WT      YLD      YLD   \n",
       "91825  112360     ZAF     ZAF        WT        WT      YLD      YLD   \n",
       "91826  112361     ZAF     ZAF        WT        WT      YLD      YLD   \n",
       "91827  112362     ZAF     ZAF        WT        WT      YLD      YLD   \n",
       "91828  112363     ZAF     ZAF        WT        WT      YLD      YLD   \n",
       "\n",
       "       TIME_PERIOD        value  \n",
       "0             2004     0.000000  \n",
       "1             2005     0.000000  \n",
       "2             2006     0.000000  \n",
       "3             2007   459.090909  \n",
       "4             2008  1400.000000  \n",
       "...            ...          ...  \n",
       "91824         2015     2.973232  \n",
       "91825         2016     2.991035  \n",
       "91826         2017     3.004720  \n",
       "91827         2018     3.018791  \n",
       "91828         2019     3.033136  \n",
       "\n",
       "[91829 rows x 9 columns]"
      ]
     },
     "execution_count": 13,
     "metadata": {},
     "output_type": "execute_result"
    }
   ],
   "source": [
    "df.reset_index()"
   ]
  },
  {
   "cell_type": "code",
   "execution_count": 14,
   "metadata": {},
   "outputs": [
    {
     "data": {
      "text/html": [
       "<div>\n",
       "<style scoped>\n",
       "    .dataframe tbody tr th:only-of-type {\n",
       "        vertical-align: middle;\n",
       "    }\n",
       "\n",
       "    .dataframe tbody tr th {\n",
       "        vertical-align: top;\n",
       "    }\n",
       "\n",
       "    .dataframe thead th {\n",
       "        text-align: right;\n",
       "    }\n",
       "</style>\n",
       "<table border=\"1\" class=\"dataframe\">\n",
       "  <thead>\n",
       "    <tr style=\"text-align: right;\">\n",
       "      <th></th>\n",
       "      <th>index</th>\n",
       "      <th>COUNTRY</th>\n",
       "      <th>Country</th>\n",
       "      <th>COMMODITY</th>\n",
       "      <th>Commodity</th>\n",
       "      <th>VARIABLE</th>\n",
       "      <th>Variable</th>\n",
       "      <th>TIME</th>\n",
       "      <th>Time</th>\n",
       "      <th>Value</th>\n",
       "      <th>Flag Codes</th>\n",
       "      <th>Flags</th>\n",
       "    </tr>\n",
       "  </thead>\n",
       "  <tbody>\n",
       "    <tr>\n",
       "      <th>0</th>\n",
       "      <td>0</td>\n",
       "      <td>WLD</td>\n",
       "      <td>World</td>\n",
       "      <td>WT</td>\n",
       "      <td>Wheat</td>\n",
       "      <td>QP</td>\n",
       "      <td>Production, kt (for Biofuels in millions of li...</td>\n",
       "      <td>2000</td>\n",
       "      <td>2000</td>\n",
       "      <td>585762.084553</td>\n",
       "      <td>NaN</td>\n",
       "      <td>NaN</td>\n",
       "    </tr>\n",
       "    <tr>\n",
       "      <th>1</th>\n",
       "      <td>1</td>\n",
       "      <td>WLD</td>\n",
       "      <td>World</td>\n",
       "      <td>WT</td>\n",
       "      <td>Wheat</td>\n",
       "      <td>QP</td>\n",
       "      <td>Production, kt (for Biofuels in millions of li...</td>\n",
       "      <td>2001</td>\n",
       "      <td>2001</td>\n",
       "      <td>588641.567355</td>\n",
       "      <td>NaN</td>\n",
       "      <td>NaN</td>\n",
       "    </tr>\n",
       "    <tr>\n",
       "      <th>2</th>\n",
       "      <td>2</td>\n",
       "      <td>WLD</td>\n",
       "      <td>World</td>\n",
       "      <td>WT</td>\n",
       "      <td>Wheat</td>\n",
       "      <td>QP</td>\n",
       "      <td>Production, kt (for Biofuels in millions of li...</td>\n",
       "      <td>2002</td>\n",
       "      <td>2002</td>\n",
       "      <td>572888.150326</td>\n",
       "      <td>NaN</td>\n",
       "      <td>NaN</td>\n",
       "    </tr>\n",
       "    <tr>\n",
       "      <th>3</th>\n",
       "      <td>3</td>\n",
       "      <td>WLD</td>\n",
       "      <td>World</td>\n",
       "      <td>WT</td>\n",
       "      <td>Wheat</td>\n",
       "      <td>QP</td>\n",
       "      <td>Production, kt (for Biofuels in millions of li...</td>\n",
       "      <td>2003</td>\n",
       "      <td>2003</td>\n",
       "      <td>560015.010840</td>\n",
       "      <td>NaN</td>\n",
       "      <td>NaN</td>\n",
       "    </tr>\n",
       "    <tr>\n",
       "      <th>4</th>\n",
       "      <td>4</td>\n",
       "      <td>WLD</td>\n",
       "      <td>World</td>\n",
       "      <td>WT</td>\n",
       "      <td>Wheat</td>\n",
       "      <td>QP</td>\n",
       "      <td>Production, kt (for Biofuels in millions of li...</td>\n",
       "      <td>2004</td>\n",
       "      <td>2004</td>\n",
       "      <td>631106.170060</td>\n",
       "      <td>NaN</td>\n",
       "      <td>NaN</td>\n",
       "    </tr>\n",
       "    <tr>\n",
       "      <th>...</th>\n",
       "      <td>...</td>\n",
       "      <td>...</td>\n",
       "      <td>...</td>\n",
       "      <td>...</td>\n",
       "      <td>...</td>\n",
       "      <td>...</td>\n",
       "      <td>...</td>\n",
       "      <td>...</td>\n",
       "      <td>...</td>\n",
       "      <td>...</td>\n",
       "      <td>...</td>\n",
       "      <td>...</td>\n",
       "    </tr>\n",
       "    <tr>\n",
       "      <th>112359</th>\n",
       "      <td>112359</td>\n",
       "      <td>SAU</td>\n",
       "      <td>Saudi Arabia</td>\n",
       "      <td>SUW</td>\n",
       "      <td>White sugar</td>\n",
       "      <td>IMP</td>\n",
       "      <td>Import price</td>\n",
       "      <td>2015</td>\n",
       "      <td>2015</td>\n",
       "      <td>1697.895260</td>\n",
       "      <td>NaN</td>\n",
       "      <td>NaN</td>\n",
       "    </tr>\n",
       "    <tr>\n",
       "      <th>112360</th>\n",
       "      <td>112360</td>\n",
       "      <td>SAU</td>\n",
       "      <td>Saudi Arabia</td>\n",
       "      <td>SUW</td>\n",
       "      <td>White sugar</td>\n",
       "      <td>IMP</td>\n",
       "      <td>Import price</td>\n",
       "      <td>2016</td>\n",
       "      <td>2016</td>\n",
       "      <td>1648.712335</td>\n",
       "      <td>NaN</td>\n",
       "      <td>NaN</td>\n",
       "    </tr>\n",
       "    <tr>\n",
       "      <th>112361</th>\n",
       "      <td>112361</td>\n",
       "      <td>SAU</td>\n",
       "      <td>Saudi Arabia</td>\n",
       "      <td>SUW</td>\n",
       "      <td>White sugar</td>\n",
       "      <td>IMP</td>\n",
       "      <td>Import price</td>\n",
       "      <td>2017</td>\n",
       "      <td>2017</td>\n",
       "      <td>1837.492582</td>\n",
       "      <td>NaN</td>\n",
       "      <td>NaN</td>\n",
       "    </tr>\n",
       "    <tr>\n",
       "      <th>112362</th>\n",
       "      <td>112362</td>\n",
       "      <td>SAU</td>\n",
       "      <td>Saudi Arabia</td>\n",
       "      <td>SUW</td>\n",
       "      <td>White sugar</td>\n",
       "      <td>IMP</td>\n",
       "      <td>Import price</td>\n",
       "      <td>2018</td>\n",
       "      <td>2018</td>\n",
       "      <td>1985.490285</td>\n",
       "      <td>NaN</td>\n",
       "      <td>NaN</td>\n",
       "    </tr>\n",
       "    <tr>\n",
       "      <th>112363</th>\n",
       "      <td>112363</td>\n",
       "      <td>SAU</td>\n",
       "      <td>Saudi Arabia</td>\n",
       "      <td>SUW</td>\n",
       "      <td>White sugar</td>\n",
       "      <td>IMP</td>\n",
       "      <td>Import price</td>\n",
       "      <td>2019</td>\n",
       "      <td>2019</td>\n",
       "      <td>2201.187026</td>\n",
       "      <td>NaN</td>\n",
       "      <td>NaN</td>\n",
       "    </tr>\n",
       "  </tbody>\n",
       "</table>\n",
       "<p>112364 rows × 12 columns</p>\n",
       "</div>"
      ],
      "text/plain": [
       "         index COUNTRY       Country COMMODITY    Commodity VARIABLE  \\\n",
       "0            0     WLD         World        WT        Wheat       QP   \n",
       "1            1     WLD         World        WT        Wheat       QP   \n",
       "2            2     WLD         World        WT        Wheat       QP   \n",
       "3            3     WLD         World        WT        Wheat       QP   \n",
       "4            4     WLD         World        WT        Wheat       QP   \n",
       "...        ...     ...           ...       ...          ...      ...   \n",
       "112359  112359     SAU  Saudi Arabia       SUW  White sugar      IMP   \n",
       "112360  112360     SAU  Saudi Arabia       SUW  White sugar      IMP   \n",
       "112361  112361     SAU  Saudi Arabia       SUW  White sugar      IMP   \n",
       "112362  112362     SAU  Saudi Arabia       SUW  White sugar      IMP   \n",
       "112363  112363     SAU  Saudi Arabia       SUW  White sugar      IMP   \n",
       "\n",
       "                                                 Variable  TIME  Time  \\\n",
       "0       Production, kt (for Biofuels in millions of li...  2000  2000   \n",
       "1       Production, kt (for Biofuels in millions of li...  2001  2001   \n",
       "2       Production, kt (for Biofuels in millions of li...  2002  2002   \n",
       "3       Production, kt (for Biofuels in millions of li...  2003  2003   \n",
       "4       Production, kt (for Biofuels in millions of li...  2004  2004   \n",
       "...                                                   ...   ...   ...   \n",
       "112359                                       Import price  2015  2015   \n",
       "112360                                       Import price  2016  2016   \n",
       "112361                                       Import price  2017  2017   \n",
       "112362                                       Import price  2018  2018   \n",
       "112363                                       Import price  2019  2019   \n",
       "\n",
       "                Value  Flag Codes  Flags  \n",
       "0       585762.084553         NaN    NaN  \n",
       "1       588641.567355         NaN    NaN  \n",
       "2       572888.150326         NaN    NaN  \n",
       "3       560015.010840         NaN    NaN  \n",
       "4       631106.170060         NaN    NaN  \n",
       "...               ...         ...    ...  \n",
       "112359    1697.895260         NaN    NaN  \n",
       "112360    1648.712335         NaN    NaN  \n",
       "112361    1837.492582         NaN    NaN  \n",
       "112362    1985.490285         NaN    NaN  \n",
       "112363    2201.187026         NaN    NaN  \n",
       "\n",
       "[112364 rows x 12 columns]"
      ]
     },
     "execution_count": 14,
     "metadata": {},
     "output_type": "execute_result"
    }
   ],
   "source": [
    "df_abbr.reset_index()"
   ]
  },
  {
   "cell_type": "code",
   "execution_count": 58,
   "metadata": {},
   "outputs": [
    {
     "data": {
      "text/plain": [
       "array(['ARG', 'AUS', 'BGD', 'BRA', 'CAN', 'CHL', 'CHN', 'DZA', 'EGY',\n",
       "       'IDN', 'IND', 'IRN', 'JPN', 'KOR', 'MEX', 'MYS', 'NZL', 'PAK',\n",
       "       'RUS', 'SAU', 'SSA', 'TUR', 'UKR', 'URY', 'USA', 'ZAF'],\n",
       "      dtype=object)"
      ]
     },
     "execution_count": 58,
     "metadata": {},
     "output_type": "execute_result"
    }
   ],
   "source": [
    "df.COUNTRY.unique()"
   ]
  },
  {
   "cell_type": "code",
   "execution_count": 59,
   "metadata": {},
   "outputs": [
    {
     "data": {
      "text/plain": [
       "array(['WLD', 'O29', 'NME', 'DVD', 'DVG', 'LDC', 'CAN', 'USA', 'AUS',\n",
       "       'NZL', 'MEX', 'KOR', 'JPN', 'TUR', 'E27', 'RUS', 'UKR', 'DZA',\n",
       "       'EGY', 'SSA', 'ZAF', 'ARG', 'BRA', 'CHL', 'URY', 'BGD', 'CHN',\n",
       "       'IND', 'IDN', 'IRN', 'MYS', 'PAK', 'SAU'], dtype=object)"
      ]
     },
     "execution_count": 59,
     "metadata": {},
     "output_type": "execute_result"
    }
   ],
   "source": [
    "df_abbr.COUNTRY.unique()"
   ]
  },
  {
   "cell_type": "code",
   "execution_count": 60,
   "metadata": {},
   "outputs": [],
   "source": [
    "drop_list = list(set(df_abbr.COUNTRY.unique()) - set(df.COUNTRY.unique()))"
   ]
  },
  {
   "cell_type": "code",
   "execution_count": 61,
   "metadata": {},
   "outputs": [],
   "source": [
    "for i in drop_list:\n",
    "    df_abbr.drop(df_abbr[df_abbr[\"COUNTRY\"]==i].index, inplace=True)"
   ]
  },
  {
   "cell_type": "code",
   "execution_count": 62,
   "metadata": {},
   "outputs": [
    {
     "name": "stdout",
     "output_type": "stream",
     "text": [
      "(91829, 8)\n",
      "(91829, 11)\n"
     ]
    }
   ],
   "source": [
    "print(df.shape)\n",
    "print(df_abbr.shape)"
   ]
  },
  {
   "cell_type": "code",
   "execution_count": 63,
   "metadata": {},
   "outputs": [
    {
     "data": {
      "text/html": [
       "<div>\n",
       "<style scoped>\n",
       "    .dataframe tbody tr th:only-of-type {\n",
       "        vertical-align: middle;\n",
       "    }\n",
       "\n",
       "    .dataframe tbody tr th {\n",
       "        vertical-align: top;\n",
       "    }\n",
       "\n",
       "    .dataframe thead th {\n",
       "        text-align: right;\n",
       "    }\n",
       "</style>\n",
       "<table border=\"1\" class=\"dataframe\">\n",
       "  <thead>\n",
       "    <tr style=\"text-align: right;\">\n",
       "      <th></th>\n",
       "      <th>COUNTRY</th>\n",
       "      <th>Country</th>\n",
       "      <th>COMMODITY</th>\n",
       "      <th>Commodity</th>\n",
       "      <th>VARIABLE</th>\n",
       "      <th>Variable</th>\n",
       "      <th>TIME_PERIOD</th>\n",
       "      <th>value</th>\n",
       "    </tr>\n",
       "  </thead>\n",
       "  <tbody>\n",
       "    <tr>\n",
       "      <th>0</th>\n",
       "      <td>ARG</td>\n",
       "      <td>ARG</td>\n",
       "      <td>BD</td>\n",
       "      <td>BD</td>\n",
       "      <td>NT</td>\n",
       "      <td>NT</td>\n",
       "      <td>2004</td>\n",
       "      <td>0.0</td>\n",
       "    </tr>\n",
       "  </tbody>\n",
       "</table>\n",
       "</div>"
      ],
      "text/plain": [
       "  COUNTRY Country COMMODITY Commodity VARIABLE Variable  TIME_PERIOD  value\n",
       "0     ARG     ARG        BD        BD       NT       NT         2004    0.0"
      ]
     },
     "execution_count": 63,
     "metadata": {},
     "output_type": "execute_result"
    }
   ],
   "source": [
    "df.head(1)"
   ]
  },
  {
   "cell_type": "code",
   "execution_count": 64,
   "metadata": {},
   "outputs": [
    {
     "data": {
      "text/html": [
       "<div>\n",
       "<style scoped>\n",
       "    .dataframe tbody tr th:only-of-type {\n",
       "        vertical-align: middle;\n",
       "    }\n",
       "\n",
       "    .dataframe tbody tr th {\n",
       "        vertical-align: top;\n",
       "    }\n",
       "\n",
       "    .dataframe thead th {\n",
       "        text-align: right;\n",
       "    }\n",
       "</style>\n",
       "<table border=\"1\" class=\"dataframe\">\n",
       "  <thead>\n",
       "    <tr style=\"text-align: right;\">\n",
       "      <th></th>\n",
       "      <th>COUNTRY</th>\n",
       "      <th>Country</th>\n",
       "      <th>COMMODITY</th>\n",
       "      <th>Commodity</th>\n",
       "      <th>VARIABLE</th>\n",
       "      <th>Variable</th>\n",
       "      <th>TIME</th>\n",
       "      <th>Time</th>\n",
       "      <th>Value</th>\n",
       "      <th>Flag Codes</th>\n",
       "      <th>Flags</th>\n",
       "    </tr>\n",
       "  </thead>\n",
       "  <tbody>\n",
       "    <tr>\n",
       "      <th>1439</th>\n",
       "      <td>CAN</td>\n",
       "      <td>Canada</td>\n",
       "      <td>WT</td>\n",
       "      <td>Wheat</td>\n",
       "      <td>QP</td>\n",
       "      <td>Production, kt (for Biofuels in millions of li...</td>\n",
       "      <td>2000</td>\n",
       "      <td>2000</td>\n",
       "      <td>26535.5</td>\n",
       "      <td>NaN</td>\n",
       "      <td>NaN</td>\n",
       "    </tr>\n",
       "  </tbody>\n",
       "</table>\n",
       "</div>"
      ],
      "text/plain": [
       "     COUNTRY Country COMMODITY Commodity VARIABLE  \\\n",
       "1439     CAN  Canada        WT     Wheat       QP   \n",
       "\n",
       "                                               Variable  TIME  Time    Value  \\\n",
       "1439  Production, kt (for Biofuels in millions of li...  2000  2000  26535.5   \n",
       "\n",
       "      Flag Codes  Flags  \n",
       "1439         NaN    NaN  "
      ]
     },
     "execution_count": 64,
     "metadata": {},
     "output_type": "execute_result"
    }
   ],
   "source": [
    "df_abbr.head(1)"
   ]
  },
  {
   "cell_type": "code",
   "execution_count": 66,
   "metadata": {},
   "outputs": [
    {
     "data": {
      "text/plain": [
       "'NT'"
      ]
     },
     "execution_count": 66,
     "metadata": {},
     "output_type": "execute_result"
    }
   ],
   "source": [
    "df.loc[0,\"Variable\"]"
   ]
  },
  {
   "cell_type": "code",
   "execution_count": null,
   "metadata": {},
   "outputs": [],
   "source": [
    "for i in df_abbr.Variable:\n",
    "    df_abbr.Variable[i]\n"
   ]
  },
  {
   "cell_type": "code",
   "execution_count": 38,
   "metadata": {},
   "outputs": [
    {
     "data": {
      "text/plain": [
       "'Production'"
      ]
     },
     "execution_count": 38,
     "metadata": {},
     "output_type": "execute_result"
    }
   ],
   "source": [
    "df_abbr.Variable.unique()[0].split(\",\")[0]"
   ]
  },
  {
   "cell_type": "code",
   "execution_count": 34,
   "metadata": {},
   "outputs": [
    {
     "data": {
      "text/plain": [
       "['Production, kt (for Biofuels in millions of liters)',\n",
       " 'Imports, kt (for Biofuels in millions of liters)',\n",
       " 'Consumption, kt (for Biofuels in millions of liters)',\n",
       " 'Ending stocks, kt (for Biofuels in millions of liters)',\n",
       " 'Exports, kt (for Biofuels in millions of liters)',\n",
       " 'Trade balance, kt (for Biofuels in millions of liters)',\n",
       " 'Area harvested, 000 ha',\n",
       " 'Feed, kt',\n",
       " 'Food, kt',\n",
       " 'Other use, kt (for Biofuels in millions of liters)',\n",
       " 'Yield',\n",
       " 'Weighted average or Producer price',\n",
       " 'Consumption per capita',\n",
       " 'Import price',\n",
       " 'Specific market or product price',\n",
       " 'Crush, kt',\n",
       " 'Cow inventory, 000 hd',\n",
       " 'World Price']"
      ]
     },
     "execution_count": 34,
     "metadata": {},
     "output_type": "execute_result"
    }
   ],
   "source": [
    "a = [s.strip() for s in list(df_abbr.Variable.unique())]\n",
    "a"
   ]
  },
  {
   "cell_type": "code",
   "execution_count": null,
   "metadata": {},
   "outputs": [],
   "source": []
  },
  {
   "cell_type": "code",
   "execution_count": null,
   "metadata": {},
   "outputs": [],
   "source": []
  },
  {
   "cell_type": "code",
   "execution_count": 813,
   "metadata": {},
   "outputs": [],
   "source": [
    "abr_list = df.Country.unique()\n",
    "abr_list = list(abr_list)"
   ]
  },
  {
   "cell_type": "code",
   "execution_count": 814,
   "metadata": {},
   "outputs": [
    {
     "data": {
      "text/plain": [
       "'Canada'"
      ]
     },
     "execution_count": 814,
     "metadata": {},
     "output_type": "execute_result"
    }
   ],
   "source": [
    "df_abbr[df_abbr[\"COUNTRY\"] == \"CAN\"].iloc[0,1]"
   ]
  },
  {
   "cell_type": "code",
   "execution_count": null,
   "metadata": {},
   "outputs": [],
   "source": [
    "BURADA KALDIMMMMMMMMMMMMMMMMMMMMMMMMMMMMMMMMMMMMMMM"
   ]
  },
  {
   "cell_type": "code",
   "execution_count": null,
   "metadata": {},
   "outputs": [],
   "source": []
  },
  {
   "cell_type": "code",
   "execution_count": null,
   "metadata": {},
   "outputs": [],
   "source": []
  },
  {
   "cell_type": "code",
   "execution_count": 777,
   "metadata": {},
   "outputs": [
    {
     "ename": "KeyboardInterrupt",
     "evalue": "",
     "output_type": "error",
     "traceback": [
      "\u001b[1;31m---------------------------------------------------------------------------\u001b[0m",
      "\u001b[1;31mKeyboardInterrupt\u001b[0m                         Traceback (most recent call last)",
      "\u001b[1;32md:\\1_Engin\\1_Google_Drive\\1_IT_Courses\\1_Github\\4_Data_Scraping\\OECD_Data_Scraping\\OECD_Scrap_Code.ipynb Cell 24\u001b[0m in \u001b[0;36m<cell line: 1>\u001b[1;34m()\u001b[0m\n\u001b[0;32m      <a href='vscode-notebook-cell:/d%3A/1_Engin/1_Google_Drive/1_IT_Courses/1_Github/4_Data_Scraping/OECD_Data_Scraping/OECD_Scrap_Code.ipynb#ch0000132?line=0'>1</a>\u001b[0m \u001b[39mfor\u001b[39;00m i \u001b[39min\u001b[39;00m df\u001b[39m.\u001b[39mCountry:\n\u001b[1;32m----> <a href='vscode-notebook-cell:/d%3A/1_Engin/1_Google_Drive/1_IT_Courses/1_Github/4_Data_Scraping/OECD_Data_Scraping/OECD_Scrap_Code.ipynb#ch0000132?line=1'>2</a>\u001b[0m     df\u001b[39m.\u001b[39mCountry\u001b[39m.\u001b[39mreplace(i, df_abbr[df_abbr[\u001b[39m\"\u001b[39;49m\u001b[39mCOUNTRY\u001b[39;49m\u001b[39m\"\u001b[39;49m] \u001b[39m==\u001b[39;49m i]\u001b[39m.\u001b[39miloc[\u001b[39m0\u001b[39m,\u001b[39m1\u001b[39m])\n",
      "File \u001b[1;32mc:\\Users\\engin\\AppData\\Local\\Programs\\Python\\Python39\\lib\\site-packages\\pandas\\core\\frame.py:3496\u001b[0m, in \u001b[0;36mDataFrame.__getitem__\u001b[1;34m(self, key)\u001b[0m\n\u001b[0;32m   3494\u001b[0m \u001b[39m# Do we have a (boolean) 1d indexer?\u001b[39;00m\n\u001b[0;32m   3495\u001b[0m \u001b[39mif\u001b[39;00m com\u001b[39m.\u001b[39mis_bool_indexer(key):\n\u001b[1;32m-> 3496\u001b[0m     \u001b[39mreturn\u001b[39;00m \u001b[39mself\u001b[39;49m\u001b[39m.\u001b[39;49m_getitem_bool_array(key)\n\u001b[0;32m   3498\u001b[0m \u001b[39m# We are left with two options: a single key, and a collection of keys,\u001b[39;00m\n\u001b[0;32m   3499\u001b[0m \u001b[39m# We interpret tuples as collections only for non-MultiIndex\u001b[39;00m\n\u001b[0;32m   3500\u001b[0m is_single_key \u001b[39m=\u001b[39m \u001b[39misinstance\u001b[39m(key, \u001b[39mtuple\u001b[39m) \u001b[39mor\u001b[39;00m \u001b[39mnot\u001b[39;00m is_list_like(key)\n",
      "File \u001b[1;32mc:\\Users\\engin\\AppData\\Local\\Programs\\Python\\Python39\\lib\\site-packages\\pandas\\core\\frame.py:3550\u001b[0m, in \u001b[0;36mDataFrame._getitem_bool_array\u001b[1;34m(self, key)\u001b[0m\n\u001b[0;32m   3547\u001b[0m \u001b[39m# check_bool_indexer will throw exception if Series key cannot\u001b[39;00m\n\u001b[0;32m   3548\u001b[0m \u001b[39m# be reindexed to match DataFrame rows\u001b[39;00m\n\u001b[0;32m   3549\u001b[0m key \u001b[39m=\u001b[39m check_bool_indexer(\u001b[39mself\u001b[39m\u001b[39m.\u001b[39mindex, key)\n\u001b[1;32m-> 3550\u001b[0m indexer \u001b[39m=\u001b[39m key\u001b[39m.\u001b[39;49mnonzero()[\u001b[39m0\u001b[39m]\n\u001b[0;32m   3551\u001b[0m \u001b[39mreturn\u001b[39;00m \u001b[39mself\u001b[39m\u001b[39m.\u001b[39m_take_with_is_copy(indexer, axis\u001b[39m=\u001b[39m\u001b[39m0\u001b[39m)\n",
      "\u001b[1;31mKeyboardInterrupt\u001b[0m: "
     ]
    }
   ],
   "source": [
    "for i in df.Country:\n",
    "    df.Country.replace(i, df_abbr[df_abbr[\"COUNTRY\"] == i].iloc[0,1])"
   ]
  },
  {
   "cell_type": "code",
   "execution_count": null,
   "metadata": {},
   "outputs": [],
   "source": []
  },
  {
   "cell_type": "code",
   "execution_count": 776,
   "metadata": {},
   "outputs": [
    {
     "data": {
      "text/plain": [
       "array(['ARG', 'AUS', 'BGD', 'BRA', 'CAN', 'CHL', 'CHN', 'DZA', 'EGY',\n",
       "       'IDN', 'IND', 'IRN', 'JPN', 'KOR', 'MEX', 'MYS', 'NZL', 'PAK',\n",
       "       'RUS', 'SAU', 'SSA', 'TUR', 'UKR', 'URY', 'USA', 'ZAF'],\n",
       "      dtype=object)"
      ]
     },
     "execution_count": 776,
     "metadata": {},
     "output_type": "execute_result"
    }
   ],
   "source": [
    "df.Country.unique()"
   ]
  },
  {
   "cell_type": "code",
   "execution_count": 681,
   "metadata": {},
   "outputs": [
    {
     "data": {
      "text/plain": [
       "array(['Algeria', 'Argentina', 'Australia', 'Bangladesh', 'Brazil',\n",
       "       'Canada', 'Chile', 'China', 'Egypt', 'India', 'Indonesia', 'Iran',\n",
       "       'Japan', 'Korea', 'Malaysia', 'Mexico', 'New Zealand', 'Pakistan',\n",
       "       'Republic of South Africa', 'Russia', 'Saudi Arabia',\n",
       "       'Sub Saharan Africa', 'Türkiye', 'Ukraine', 'United States',\n",
       "       'Uruguay'], dtype=object)"
      ]
     },
     "execution_count": 681,
     "metadata": {},
     "output_type": "execute_result"
    }
   ],
   "source": [
    "cntry_list = df_abbr.Country.unique()\n",
    "cntry_list.sort()\n",
    "cntry_list"
   ]
  },
  {
   "cell_type": "code",
   "execution_count": null,
   "metadata": {},
   "outputs": [],
   "source": [
    "df.Country.replace(['ARG','AUS','BGD','BRA','CAN','CHL','CHN','DZA','EGY','IDN','IND','IRN','JPN','KOR','MEX','MYS','NZL','PAK','RUS', 'SAU', 'SSA', 'TUR', 'UKR', 'URY', 'USA', 'ZAF'],\n",
    "                   [Argentina,Australia,Bangladesh,Brazil,Canada],\n",
    "                   inplace=True)"
   ]
  },
  {
   "cell_type": "code",
   "execution_count": null,
   "metadata": {},
   "outputs": [],
   "source": []
  },
  {
   "cell_type": "code",
   "execution_count": null,
   "metadata": {},
   "outputs": [],
   "source": []
  },
  {
   "cell_type": "code",
   "execution_count": null,
   "metadata": {},
   "outputs": [],
   "source": []
  },
  {
   "cell_type": "code",
   "execution_count": null,
   "metadata": {},
   "outputs": [],
   "source": [
    "for i in range(len(df)):\n",
    "    df.iloc[i,1] = df_abbr[df_abbr[\"COUNTRY\"] == df.iloc[i,1]].iloc[0,1]"
   ]
  },
  {
   "cell_type": "code",
   "execution_count": null,
   "metadata": {},
   "outputs": [],
   "source": []
  },
  {
   "cell_type": "code",
   "execution_count": null,
   "metadata": {},
   "outputs": [],
   "source": [
    "stu.MI_Cat.replace([\"Ling_Int\",\"Math_Int\",\"Spa_Int\",\"Mus_Int\",\"Nat_Int\",\"Body_Int\",\"Interp_Int\",\"Intrap_Int\"],\n",
    "                    [\"Ling\",\"Math\",\"Spa\",\"Mus\",\"Nat\",\"Body\",\"Interp\",\"Intrap\"], inplace=True)"
   ]
  },
  {
   "cell_type": "code",
   "execution_count": null,
   "metadata": {},
   "outputs": [],
   "source": []
  },
  {
   "cell_type": "code",
   "execution_count": null,
   "metadata": {},
   "outputs": [],
   "source": [
    "for i in df[\"Country\"]:\n",
    "    df.country[i] = df_abbr[df_abbr[\"COUNTRY\"] == df.iloc[i,1]].iloc[0,1]"
   ]
  },
  {
   "cell_type": "code",
   "execution_count": null,
   "metadata": {},
   "outputs": [],
   "source": []
  },
  {
   "cell_type": "code",
   "execution_count": 328,
   "metadata": {},
   "outputs": [
    {
     "data": {
      "text/html": [
       "<div>\n",
       "<style scoped>\n",
       "    .dataframe tbody tr th:only-of-type {\n",
       "        vertical-align: middle;\n",
       "    }\n",
       "\n",
       "    .dataframe tbody tr th {\n",
       "        vertical-align: top;\n",
       "    }\n",
       "\n",
       "    .dataframe thead th {\n",
       "        text-align: right;\n",
       "    }\n",
       "</style>\n",
       "<table border=\"1\" class=\"dataframe\">\n",
       "  <thead>\n",
       "    <tr style=\"text-align: right;\">\n",
       "      <th></th>\n",
       "      <th>COUNTRY</th>\n",
       "      <th>Country</th>\n",
       "      <th>COMMODITY</th>\n",
       "      <th>Commodity</th>\n",
       "      <th>VARIABLE</th>\n",
       "      <th>Variable</th>\n",
       "      <th>TIME_PERIOD</th>\n",
       "      <th>value</th>\n",
       "    </tr>\n",
       "  </thead>\n",
       "  <tbody>\n",
       "    <tr>\n",
       "      <th>112363</th>\n",
       "      <td>ZAF</td>\n",
       "      <td>ZAF</td>\n",
       "      <td>WT</td>\n",
       "      <td>WT</td>\n",
       "      <td>YLD</td>\n",
       "      <td>YLD</td>\n",
       "      <td>2019</td>\n",
       "      <td>3.033136</td>\n",
       "    </tr>\n",
       "  </tbody>\n",
       "</table>\n",
       "</div>"
      ],
      "text/plain": [
       "       COUNTRY Country COMMODITY  ... Variable TIME_PERIOD     value\n",
       "112363     ZAF     ZAF        WT  ...      YLD        2019  3.033136\n",
       "\n",
       "[1 rows x 8 columns]"
      ]
     },
     "execution_count": 328,
     "metadata": {},
     "output_type": "execute_result"
    }
   ],
   "source": [
    "df.tail(1)"
   ]
  },
  {
   "cell_type": "code",
   "execution_count": 327,
   "metadata": {},
   "outputs": [
    {
     "data": {
      "text/plain": [
       "112364"
      ]
     },
     "execution_count": 327,
     "metadata": {},
     "output_type": "execute_result"
    }
   ],
   "source": [
    "len(df)"
   ]
  },
  {
   "cell_type": "code",
   "execution_count": null,
   "metadata": {},
   "outputs": [],
   "source": []
  },
  {
   "cell_type": "code",
   "execution_count": null,
   "metadata": {},
   "outputs": [],
   "source": []
  },
  {
   "cell_type": "code",
   "execution_count": 95,
   "metadata": {},
   "outputs": [
    {
     "ename": "KeyError",
     "evalue": "'DVD'",
     "output_type": "error",
     "traceback": [
      "\u001b[1;31m---------------------------------------------------------------------------\u001b[0m",
      "\u001b[1;31mKeyError\u001b[0m                                  Traceback (most recent call last)",
      "\u001b[1;32md:\\1_Engin\\1_Google_Drive\\1_IT_Courses\\1_Github\\4_Data_Scraping\\OECD_Data_Scraping\\OECD_Scrap_Code.ipynb Cell 12\u001b[0m in \u001b[0;36m<cell line: 1>\u001b[1;34m()\u001b[0m\n\u001b[0;32m      <a href='vscode-notebook-cell:/d%3A/1_Engin/1_Google_Drive/1_IT_Courses/1_Github/4_Data_Scraping/OECD_Data_Scraping/OECD_Scrap_Code.ipynb#ch0000009?line=0'>1</a>\u001b[0m \u001b[39mfor\u001b[39;00m i \u001b[39min\u001b[39;00m list_country:\n\u001b[1;32m----> <a href='vscode-notebook-cell:/d%3A/1_Engin/1_Google_Drive/1_IT_Courses/1_Github/4_Data_Scraping/OECD_Data_Scraping/OECD_Scrap_Code.ipynb#ch0000009?line=1'>2</a>\u001b[0m     df\u001b[39m.\u001b[39;49mcountry[i]\u001b[39m.\u001b[39mreplace(i, df_cntr[df_cntr[\u001b[39m\"\u001b[39m\u001b[39miso\u001b[39m\u001b[39m\"\u001b[39m]\u001b[39m==\u001b[39mi]\u001b[39m.\u001b[39miloc[\u001b[39m0\u001b[39m,\u001b[39m1\u001b[39m], inplace\u001b[39m=\u001b[39m\u001b[39mTrue\u001b[39;00m)\n",
      "File \u001b[1;32mc:\\Users\\engin\\AppData\\Local\\Programs\\Python\\Python39\\lib\\site-packages\\pandas\\core\\series.py:958\u001b[0m, in \u001b[0;36mSeries.__getitem__\u001b[1;34m(self, key)\u001b[0m\n\u001b[0;32m    955\u001b[0m     \u001b[39mreturn\u001b[39;00m \u001b[39mself\u001b[39m\u001b[39m.\u001b[39m_values[key]\n\u001b[0;32m    957\u001b[0m \u001b[39melif\u001b[39;00m key_is_scalar:\n\u001b[1;32m--> 958\u001b[0m     \u001b[39mreturn\u001b[39;00m \u001b[39mself\u001b[39;49m\u001b[39m.\u001b[39;49m_get_value(key)\n\u001b[0;32m    960\u001b[0m \u001b[39mif\u001b[39;00m is_hashable(key):\n\u001b[0;32m    961\u001b[0m     \u001b[39m# Otherwise index.get_value will raise InvalidIndexError\u001b[39;00m\n\u001b[0;32m    962\u001b[0m     \u001b[39mtry\u001b[39;00m:\n\u001b[0;32m    963\u001b[0m         \u001b[39m# For labels that don't resolve as scalars like tuples and frozensets\u001b[39;00m\n",
      "File \u001b[1;32mc:\\Users\\engin\\AppData\\Local\\Programs\\Python\\Python39\\lib\\site-packages\\pandas\\core\\series.py:1069\u001b[0m, in \u001b[0;36mSeries._get_value\u001b[1;34m(self, label, takeable)\u001b[0m\n\u001b[0;32m   1066\u001b[0m     \u001b[39mreturn\u001b[39;00m \u001b[39mself\u001b[39m\u001b[39m.\u001b[39m_values[label]\n\u001b[0;32m   1068\u001b[0m \u001b[39m# Similar to Index.get_value, but we do not fall back to positional\u001b[39;00m\n\u001b[1;32m-> 1069\u001b[0m loc \u001b[39m=\u001b[39m \u001b[39mself\u001b[39;49m\u001b[39m.\u001b[39;49mindex\u001b[39m.\u001b[39;49mget_loc(label)\n\u001b[0;32m   1070\u001b[0m \u001b[39mreturn\u001b[39;00m \u001b[39mself\u001b[39m\u001b[39m.\u001b[39mindex\u001b[39m.\u001b[39m_get_values_for_loc(\u001b[39mself\u001b[39m, loc, label)\n",
      "File \u001b[1;32mc:\\Users\\engin\\AppData\\Local\\Programs\\Python\\Python39\\lib\\site-packages\\pandas\\core\\indexes\\range.py:389\u001b[0m, in \u001b[0;36mRangeIndex.get_loc\u001b[1;34m(self, key, method, tolerance)\u001b[0m\n\u001b[0;32m    387\u001b[0m             \u001b[39mraise\u001b[39;00m \u001b[39mKeyError\u001b[39;00m(key) \u001b[39mfrom\u001b[39;00m \u001b[39merr\u001b[39;00m\n\u001b[0;32m    388\u001b[0m     \u001b[39mself\u001b[39m\u001b[39m.\u001b[39m_check_indexing_error(key)\n\u001b[1;32m--> 389\u001b[0m     \u001b[39mraise\u001b[39;00m \u001b[39mKeyError\u001b[39;00m(key)\n\u001b[0;32m    390\u001b[0m \u001b[39mreturn\u001b[39;00m \u001b[39msuper\u001b[39m()\u001b[39m.\u001b[39mget_loc(key, method\u001b[39m=\u001b[39mmethod, tolerance\u001b[39m=\u001b[39mtolerance)\n",
      "\u001b[1;31mKeyError\u001b[0m: 'DVD'"
     ]
    }
   ],
   "source": [
    "for i in list_country:\n",
    "    df.country[i].replace(i, df_cntr[df_cntr[\"iso\"]==i].iloc[0,1], inplace=True)"
   ]
  },
  {
   "cell_type": "code",
   "execution_count": 63,
   "metadata": {},
   "outputs": [
    {
     "data": {
      "text/plain": [
       "'Aruba'"
      ]
     },
     "execution_count": 63,
     "metadata": {},
     "output_type": "execute_result"
    }
   ],
   "source": [
    "a = df_cntr[df_cntr[\"iso\"]==\"ABW\"].iloc[0,1]\n",
    "a"
   ]
  },
  {
   "cell_type": "code",
   "execution_count": null,
   "metadata": {},
   "outputs": [],
   "source": []
  }
 ],
 "metadata": {
  "kernelspec": {
   "display_name": "Python 3.9.7 64-bit",
   "language": "python",
   "name": "python3"
  },
  "language_info": {
   "codemirror_mode": {
    "name": "ipython",
    "version": 3
   },
   "file_extension": ".py",
   "mimetype": "text/x-python",
   "name": "python",
   "nbconvert_exporter": "python",
   "pygments_lexer": "ipython3",
   "version": "3.9.7"
  },
  "orig_nbformat": 4,
  "vscode": {
   "interpreter": {
    "hash": "78d5379cc5a4e608d385c34b2eb3bb89eeab02a92c9e7d486e469b4c860ee8ca"
   }
  }
 },
 "nbformat": 4,
 "nbformat_minor": 2
}
