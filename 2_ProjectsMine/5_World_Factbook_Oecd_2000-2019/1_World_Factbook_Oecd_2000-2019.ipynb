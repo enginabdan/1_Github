{
 "cells": [
  {
   "cell_type": "markdown",
   "metadata": {},
   "source": [
    "### 1_World_Factbook_Oecd_2000-2019"
   ]
  },
  {
   "cell_type": "code",
   "execution_count": 5,
   "metadata": {},
   "outputs": [],
   "source": [
    "# OECD Data Scraping\n",
    "# pip install sdmx\n",
    "# import pandasdmx as sdmx\n",
    "# sdmx.list_sources()"
   ]
  },
  {
   "cell_type": "code",
   "execution_count": 6,
   "metadata": {},
   "outputs": [],
   "source": [
    "# Go to OECD Web\n",
    "#   >>> Find data\n",
    "#   >>> Go to Export\n",
    "#   >>> SDMX (XML)\n",
    "#   >>> Get SDMX DATA URL\n",
    "#   >>> Make resource_id & key\n",
    "#   >>> Run the Script\n",
    "# SDMX DATA URL: https://stats.oecd.org/restsdmx/sdmx.ashx/GetData/FACTBOOK2014_PUB/POPMIG+DEMOGRAPHY+EVOPOP+EVOPOP_T1+EVOPOP_T2+EVOPOP_T4+FERTILITY+EVOPOP_T3+AGEING+AGEING_T1A+AGEING_T1B+POPGEO+POPGEO_G1+POPGEO_G2A+POPGEO_G2B+POPGEO_G2C+POPGEO_G2D+POPGEO_G3A+POPGEO_G3B+POPGEO_G3C+POPGEO_G4A+POPGEO_G4B+POPGEO_G4C+AGEDPOPGEO+AGEDPOPGEO_G1+AGEDPOPGEO_G2A+AGEDPOPGEO_G2B+AGEDPOPGEO_G2C+AGEDPOPGEO_G3A+AGEDPOPGEO_G3B+AGEDPOPGEO_G3C+MIGRATION+MIGFORPOP+MIGFORPOP_T1A+MIGFORPOP_T1B+MIGFORPOP_T1C+NETMIGR+NETMIGR_T1G+NETMIGR_T1C+NETMIGR_T1E+NETMIGR_T1D+NETMIGR_T1B+NETMIGR_T1A+NETMIGR_T1F+MIGEDUEMP+MIGEDUEMP_T1A+MIGEDUEMP_T1B+MIGEDUEMP_T1C+MIGEDUEMP_T1D+MIGEDUEMP_T1E+MIGEDUEMP_T1F+MIGUNEMP+MIGUNEMP_T1A+MIGUNEMP_T1B+MIGUNEMP_T1C+MIGUNEMP_T1D+MIGUNEMP_T1E+MIGUNEMP_T1F+MACRO+GDP+SIZEGDP+SIZEGDP_T2+EVOGDP+EVOGDP_T1+INVRATES+INVRATES_T1+PRODUCTIVITY+PRODINCOM+PRODINCOM_G1+PRODINCOM_G2A+PRODINCOM_G2B+PRODINCOM_G2C+PRODGWTHGDP+PRODGWTHGDP_T1B+PRODGWTHGDP_T1C+PRODGWTHGDP_T1A+PRODGWTHACC+PRODGWTHACC_T1A+PRODGWTHACC_T1E+PRODGWTHACC_T1B+PRODGWTHACC_T1C+PRODGWTHACC_T1D+PRODGWTHACC_T1F+PRODGWTHACC_T1G+PRODGWTHACC_T1H+PRODULC+PRODULC_T1+LABCOMPENS+LABCOMPENS_T1+ECOSTRUCTURE+VALADDAC+VALADDAC_T1A+VALADDAC_T1B+VALADDAC_T1C+VALADDAC_T1D+VALADDAC_T1E+VALADDAC_T1F+VALADDAC_T1G+EVOVA+EVOVA_T1A+EVOVA_T1B+EVOVA_T1D+EVOVA_T1E+EVOVA_T1F+EVOVA_T1G+SME+SME_T1C+SME_T1D+SME_T1E+SME_T1F+SME_T1G+SME_T1J+SME_T1K+SME_T1L+SME_T1M+SME_T1N+INCOME+HOUSINCOME+NATINCCAP+NATINCCAP_T1+HOUSINC+HOUSINC_T1+HOUSSAVE+HOUSSAVE_T1+INEQUALITY+INCINEQUAL+INCINEQUAL_T1A+INCINEQUAL_T1B+INCINEQUAL_T1C+INCINEQUAL_T1D+INCINEQUAL_T1E+INCINEQUAL_T1F+INCPOVERTY+INCPOVERTY_T1A+INCPOVERTY_T1B+INCPOVERTY_T1C+INCPOVERTY_T1D+INCPOVERTY_T1E+WEALTH+HOUSWEALTH+HOUSWEALTH_T1A+HOUSWEALTH_T1B+HOUSWEALTH_T1C+HOUSWEALTH_T1D+HOUSWEALTH_T1E+HOUSWEALTH_T1F+HOUSDEBT+HOUSDEBT_T1+HOUSNONFIN+HOUSNONFIN_T1A+HOUSNONFIN_T1B+HOUSNONFIN_T1C+GLOBAL+TRADE+TRADEGDP+TRADEGDP_T1A+TRADEGDP_T1B+MERTRADE+MERTRADE_T2+MERTRADE_T1+MERTRADE_T3+SVCTRADE+SVCTRADE_T1+SVCTRADE_T2+SVCTRADE_T3+TRDPRTNR+TRDPRTNR_T1A+TRDPRTNR_T1B+TRDPRTNR_T1C+TIVA+TIVA_T1+TIVA_T2A+TIVA_T2B+TIVA_T2C+TIVA_T2D+TIVA_T2E+TIVA_T2F+TIVA_T2G+TIVA_T2H+TIVA_T2I+TIVA_T2J+FDI+FDIFLSTK+FDIFLSTK_T1A+FDIFLSTK_T1B+FDIFLSTK_T2A+FDIFLSTK_T2B+FDIFLSTK_T3H+FDIFLSTK_T3J+FDIFLSTK_T3I+FDIFLSTK_T3G+FDIFLSTK_T3A+FDIFLSTK_T3C+FDIFLSTK_T3D+FDIFLSTK_T3E+FDIFLSTK_T3B+FDIFLSTK_T3F+BOP+BOP_T1+PRICES+CPIPPI+CPI+CPI_T3B+CPI_T3A+CPI_T1+CPI_T2+PPI+PPI_T1+LTINTRST+LTINTRST_T1+PURCHASING+RTSCONV+RTSCONV_T1+RTSCONV_T2+RTSCONV_T3+INTLCOMP+INTLCOMP_T1+ENERGY+ENERGYSUP+WENERGYS+WENERGYS_T1+TPES+TPES_T1+WELECGEN+WELECGEN_T1+NUCLEARNRJ+NUCLEARNRJ_T1A+NUCLEARNRJ_T1B+NUCLEARNRJ_T1C+NUCLEARNRJ_T1D+RNEWABLE+RNEWABLE_T1+OILPROD+OILPROD_T1+OILPRICES+OILPRICES_T1+TRANSPORT+TRANSPGOOD+TRANSPGOOD_T1+TRANSPPASSENG+TRANSPPASSENG_T1+RDDEATH+RDDEATH_T1+LABOUR+EMPLOYMENT+EMPLGNDR+EMPLGNDR_T2+EMPLGNDR_T1+EMPLGNDR_T3+EMPLAGE+EMPLAGE_T1A+EMPLAGE_T1B+EMPLAGE_T1C+PTEMPL+PTEMPL_T1+SELFEMPL+SELFEMPL_T1A+SELFEMPL_T1B+SELFEMPL_T1C+REGDISPLABOUR+REGDISPLABOUR_G1A+REGDISPLABOUR_G1B+REGDISPLABOUR_G1C+REGDISPLABOUR_G2+REGDISPLABOUR_G3A+REGDISPLABOUR_G3B+REGDISPLABOUR_G3C+HOURSWKD+HOURSWKD_T1+UNEMPLOYMENT+UNEMPLRT+UNEMPLRT_T1B+UNEMPLRT_T1A+UNEMPLRT_T1C+LTUNEMP+LTUNEMP_T1+REGDISPUNEMP+REGDISPUNEMP_G1+REGDISPUNEMP_G2A+REGDISPUNEMP_G2B+REGDISPUNEMP_G2C+REGDISPUNEMP_G3A+REGDISPUNEMP_G3B+REGDISPUNEMP_G3C+SCTECH+RND+GERD+GERD_T1+RESEARCH+RESEARCH_T1+PATENTS+PATENTS_T1+INNOVURBAN+INNOVURBAN_G1A+INNOVURBAN_G1B+INNOVURBAN_G2A+INNOVURBAN_G2B+ICT+SIZEICT+SIZEICT_T1A+SIZEICT_T1B+SIZEICT_T1C+SIZEICT_T1D+EXPORTCOMM+EXPORTCOMM_T1+ICTACCSS+ICTACCSS_T1A+ICTACCSS_T1B+ICTACCSS_T1C+ENVIRO+NATURESSOURCE+WATER+WATER_T1A+WATER_T1B+FISHPROD+FISHPROD_T1A+FISHPROD_T1B+WASTE+WASTE_T1B+WASTE_T1A+AIRLAND+AIRQTY+AIRQTY_T1+SOXNOX+SOXNOX_T1A+SOXNOX_T1B+GREENHOUSE+EDUC+OUTCOME+PISA+PISA_T1I+PISA_T1J+PISA_T1K+PISA_T1L+PISA_T1A+PISA_T1B+PISA_T1C+PISA_T1D+PISA_T1E+PISA_T1F+PISA_T1H+PISA_T1G+MATHTREND+MATHTREND_T1A+MATHTREND_T1B+MATHTREND_T1C+MATHTREND_T1D+MATHTREND_T1E+MATHTREND_T1F+MATHTREND_T1G+SOCEXCLUS+SOCEXCLUS_T1A+SOCEXCLUS_T1B+STUDYABROAD+STUDYABROAD_G2+TERTIARY+TERTIARY_T1A+TERTIARY_T1B+TERTIARY_T1C+TERTIARY_T1D+TERTIARY_T1E+TERTIARY_T1F+EDUEXPEND+TEACHERS+TEACHERS_T1A+TEACHERS_T1B+TEACHERS_T1C+TEACHERS_T1D+TEACHERS_T1E+EXEDULV+EXEDULV_T1H+EXEDULV_T1A+EXEDULV_T1B+EXEDULV_T1C+EXEDULV_T1D+EXEDULV_T1E+EXEDULV_T1F+EXEDULV_T1G+EXEDULV_T1I+EXEDULV_T1J+EDUTEREXPND+EDUTEREXPND_T1A+EDUTEREXPND_T1B+EDUTEREXPND_T1C+EDUTEREXPND_T1D+EDUTEREXPND_T1E+EDUTEREXPND_T1F+GOV+GOVDEFDEBT+GOVDEFCT+GOVDEFCT_T1+GOVDEFCT_T2+GOVDEFCT_T3+GOVDEBT+GOVDEBT_T1+GOVDEBT_T2+GENGOV+GENGOVDISTRI+GENGOVDISTRI_T1A+GENGOVDISTRI_T1B+GENGOVDISTRI_T1C+GENGOVDISTRI_T1D+GENGOVDISTRI_T1E+GENGOVDISTRI_T1F+GENGOVDISTRI_T1G+GENGOVDISTRI_T1H+GENGOVDISTRI_T1I+GENGOVDISTRI_T1J+GENGOVEXPEND+GENGOVEXPEND_T1A+GENGOVEXPEND_T1B+GENGOVPROD+GENGOVPROD_T1A+GENGOVPROD_T1B+GENGOVPROD_T1C+GENGOVPROD_T1D+GOVTRANSPAR+DISCLOSURE+DISCLOSURE_G2+PUBLICEXP+SOCEXPND+SOCEXPND_T1A+SOCEXPND_T1B+SOCEXPND_T1C+PENSION+PENSION_T1A+PENSION_T1B+SUPAID+AGRSPPRT+AGRSPPRT_T1+FISHSUPP+FISHSUPP_T1+ODA+ODA_T1B+ODA_T1A+ODA_T2+TAXES+TOTALTAX+TOTALTAX_T1+TOTALTAX_T2+TOTALTAX_T3+TAXAPW+TAXAPW_T1+HEALTH+HEALTHSTATUS+LIFEEXPY+LIFEEXPY_T1A+LIFEEXPY_T1B+LIFEEXPY_T1C+INFMORTY+INFMORTY_G1A+INFMORTY_G1B+INFMORTY_G2+SUICID+SUICID_G1+HEALTHRISK+SMOKE+SMOKE_G1+SMOKE_G3B+SMOKE_G3A+ALCOHOL+ALCOHOL_G1+OBESITY+OBESITY_G1A+OBESITY_G1B+OBESITY_G1C+HEALTHRESOURC+DOCTOR+DOCTOR_G1+DOCTOR_G2A+DOCTOR_G2B+DOCTOR_G2C+DOCTOR_G3+NURSE+NURSE_G1+NURSE_G3+PPHLTHXP+PPHLTHXP_T1A+PPHLTHXP_T1B+PPHLTHXP_T1C.AUS+AUT+BEL+CAN+CHL+CZE+DNK+EST+FIN+FRA+DEU+GRC+HUN+ISL+IRL+ISR+ITA+JPN+KOR+LUX+MEX+NLD+NZL+NOR+POL+PRT+SVK+SVN+ESP+SWE+CHE+TUR+GBR+USA+BRA+CHN+IND+IDN+RUS+ZAF/all?startTime=2000&endTime=2019"
   ]
  },
  {
   "cell_type": "code",
   "execution_count": 7,
   "metadata": {},
   "outputs": [],
   "source": [
    "import pandas as pd\n",
    "import numpy as np\n",
    "import pandasdmx as sdmx\n",
    "\n",
    "import warnings\n",
    "warnings.filterwarnings(\"ignore\")\n",
    "warnings.warn(\"this will not show\")"
   ]
  },
  {
   "cell_type": "code",
   "execution_count": 8,
   "metadata": {},
   "outputs": [
    {
     "ename": "ConnectionError",
     "evalue": "('Connection aborted.', ConnectionResetError(10054, 'An existing connection was forcibly closed by the remote host', None, 10054, None))",
     "output_type": "error",
     "traceback": [
      "\u001b[1;31m---------------------------------------------------------------------------\u001b[0m",
      "\u001b[1;31mConnectionError\u001b[0m                           Traceback (most recent call last)",
      "\u001b[1;32md:\\1_Engin\\1_Google_Drive\\1_IT_Courses\\1_Github\\2_ProjectsMine\\5_World_Factbook_Oecd_2000-2019\\1_World_Factbook_Oecd_2000-2019.ipynb Cell 5\u001b[0m in \u001b[0;36m<cell line: 7>\u001b[1;34m()\u001b[0m\n\u001b[0;32m      <a href='vscode-notebook-cell:/d%3A/1_Engin/1_Google_Drive/1_IT_Courses/1_Github/2_ProjectsMine/5_World_Factbook_Oecd_2000-2019/1_World_Factbook_Oecd_2000-2019.ipynb#ch0000004?line=4'>5</a>\u001b[0m data_resource_id\u001b[39m=\u001b[39m\u001b[39m\"\u001b[39m\u001b[39mFACTBOOK2014_PUB\u001b[39m\u001b[39m\"\u001b[39m\n\u001b[0;32m      <a href='vscode-notebook-cell:/d%3A/1_Engin/1_Google_Drive/1_IT_Courses/1_Github/2_ProjectsMine/5_World_Factbook_Oecd_2000-2019/1_World_Factbook_Oecd_2000-2019.ipynb#ch0000004?line=5'>6</a>\u001b[0m data_key\u001b[39m=\u001b[39m\u001b[39m\"\u001b[39m\u001b[39mPOPMIG+DEMOGRAPHY+EVOPOP+EVOPOP_T1+EVOPOP_T2+EVOPOP_T4+FERTILITY+EVOPOP_T3+AGEING+AGEING_T1A+AGEING_T1B+POPGEO+POPGEO_G1+POPGEO_G2A+POPGEO_G2B+POPGEO_G2C+POPGEO_G2D+POPGEO_G3A+POPGEO_G3B+POPGEO_G3C+POPGEO_G4A+POPGEO_G4B+POPGEO_G4C+AGEDPOPGEO+AGEDPOPGEO_G1+AGEDPOPGEO_G2A+AGEDPOPGEO_G2B+AGEDPOPGEO_G2C+AGEDPOPGEO_G3A+AGEDPOPGEO_G3B+AGEDPOPGEO_G3C+MIGRATION+MIGFORPOP+MIGFORPOP_T1A+MIGFORPOP_T1B+MIGFORPOP_T1C+NETMIGR+NETMIGR_T1G+NETMIGR_T1C+NETMIGR_T1E+NETMIGR_T1D+NETMIGR_T1B+NETMIGR_T1A+NETMIGR_T1F+MIGEDUEMP+MIGEDUEMP_T1A+MIGEDUEMP_T1B+MIGEDUEMP_T1C+MIGEDUEMP_T1D+MIGEDUEMP_T1E+MIGEDUEMP_T1F+MIGUNEMP+MIGUNEMP_T1A+MIGUNEMP_T1B+MIGUNEMP_T1C+MIGUNEMP_T1D+MIGUNEMP_T1E+MIGUNEMP_T1F+MACRO+GDP+SIZEGDP+SIZEGDP_T2+EVOGDP+EVOGDP_T1+INVRATES+INVRATES_T1+PRODUCTIVITY+PRODINCOM+PRODINCOM_G1+PRODINCOM_G2A+PRODINCOM_G2B+PRODINCOM_G2C+PRODGWTHGDP+PRODGWTHGDP_T1B+PRODGWTHGDP_T1C+PRODGWTHGDP_T1A+PRODGWTHACC+PRODGWTHACC_T1A+PRODGWTHACC_T1E+PRODGWTHACC_T1B+PRODGWTHACC_T1C+PRODGWTHACC_T1D+PRODGWTHACC_T1F+PRODGWTHACC_T1G+PRODGWTHACC_T1H+PRODULC+PRODULC_T1+LABCOMPENS+LABCOMPENS_T1+ECOSTRUCTURE+VALADDAC+VALADDAC_T1A+VALADDAC_T1B+VALADDAC_T1C+VALADDAC_T1D+VALADDAC_T1E+VALADDAC_T1F+VALADDAC_T1G+EVOVA+EVOVA_T1A+EVOVA_T1B+EVOVA_T1D+EVOVA_T1E+EVOVA_T1F+EVOVA_T1G+SME+SME_T1C+SME_T1D+SME_T1E+SME_T1F+SME_T1G+SME_T1J+SME_T1K+SME_T1L+SME_T1M+SME_T1N+INCOME+HOUSINCOME+NATINCCAP+NATINCCAP_T1+HOUSINC+HOUSINC_T1+HOUSSAVE+HOUSSAVE_T1+INEQUALITY+INCINEQUAL+INCINEQUAL_T1A+INCINEQUAL_T1B+INCINEQUAL_T1C+INCINEQUAL_T1D+INCINEQUAL_T1E+INCINEQUAL_T1F+INCPOVERTY+INCPOVERTY_T1A+INCPOVERTY_T1B+INCPOVERTY_T1C+INCPOVERTY_T1D+INCPOVERTY_T1E+WEALTH+HOUSWEALTH+HOUSWEALTH_T1A+HOUSWEALTH_T1B+HOUSWEALTH_T1C+HOUSWEALTH_T1D+HOUSWEALTH_T1E+HOUSWEALTH_T1F+HOUSDEBT+HOUSDEBT_T1+HOUSNONFIN+HOUSNONFIN_T1A+HOUSNONFIN_T1B+HOUSNONFIN_T1C+GLOBAL+TRADE+TRADEGDP+TRADEGDP_T1A+TRADEGDP_T1B+MERTRADE+MERTRADE_T2+MERTRADE_T1+MERTRADE_T3+SVCTRADE+SVCTRADE_T1+SVCTRADE_T2+SVCTRADE_T3+TRDPRTNR+TRDPRTNR_T1A+TRDPRTNR_T1B+TRDPRTNR_T1C+TIVA+TIVA_T1+TIVA_T2A+TIVA_T2B+TIVA_T2C+TIVA_T2D+TIVA_T2E+TIVA_T2F+TIVA_T2G+TIVA_T2H+TIVA_T2I+TIVA_T2J+FDI+FDIFLSTK+FDIFLSTK_T1A+FDIFLSTK_T1B+FDIFLSTK_T2A+FDIFLSTK_T2B+FDIFLSTK_T3H+FDIFLSTK_T3J+FDIFLSTK_T3I+FDIFLSTK_T3G+FDIFLSTK_T3A+FDIFLSTK_T3C+FDIFLSTK_T3D+FDIFLSTK_T3E+FDIFLSTK_T3B+FDIFLSTK_T3F+BOP+BOP_T1+PRICES+CPIPPI+CPI+CPI_T3B+CPI_T3A+CPI_T1+CPI_T2+PPI+PPI_T1+LTINTRST+LTINTRST_T1+PURCHASING+RTSCONV+RTSCONV_T1+RTSCONV_T2+RTSCONV_T3+INTLCOMP+INTLCOMP_T1+ENERGY+ENERGYSUP+WENERGYS+WENERGYS_T1+TPES+TPES_T1+WELECGEN+WELECGEN_T1+NUCLEARNRJ+NUCLEARNRJ_T1A+NUCLEARNRJ_T1B+NUCLEARNRJ_T1C+NUCLEARNRJ_T1D+RNEWABLE+RNEWABLE_T1+OILPROD+OILPROD_T1+OILPRICES+OILPRICES_T1+TRANSPORT+TRANSPGOOD+TRANSPGOOD_T1+TRANSPPASSENG+TRANSPPASSENG_T1+RDDEATH+RDDEATH_T1+LABOUR+EMPLOYMENT+EMPLGNDR+EMPLGNDR_T2+EMPLGNDR_T1+EMPLGNDR_T3+EMPLAGE+EMPLAGE_T1A+EMPLAGE_T1B+EMPLAGE_T1C+PTEMPL+PTEMPL_T1+SELFEMPL+SELFEMPL_T1A+SELFEMPL_T1B+SELFEMPL_T1C+REGDISPLABOUR+REGDISPLABOUR_G1A+REGDISPLABOUR_G1B+REGDISPLABOUR_G1C+REGDISPLABOUR_G2+REGDISPLABOUR_G3A+REGDISPLABOUR_G3B+REGDISPLABOUR_G3C+HOURSWKD+HOURSWKD_T1+UNEMPLOYMENT+UNEMPLRT+UNEMPLRT_T1B+UNEMPLRT_T1A+UNEMPLRT_T1C+LTUNEMP+LTUNEMP_T1+REGDISPUNEMP+REGDISPUNEMP_G1+REGDISPUNEMP_G2A+REGDISPUNEMP_G2B+REGDISPUNEMP_G2C+REGDISPUNEMP_G3A+REGDISPUNEMP_G3B+REGDISPUNEMP_G3C+SCTECH+RND+GERD+GERD_T1+RESEARCH+RESEARCH_T1+PATENTS+PATENTS_T1+INNOVURBAN+INNOVURBAN_G1A+INNOVURBAN_G1B+INNOVURBAN_G2A+INNOVURBAN_G2B+ICT+SIZEICT+SIZEICT_T1A+SIZEICT_T1B+SIZEICT_T1C+SIZEICT_T1D+EXPORTCOMM+EXPORTCOMM_T1+ICTACCSS+ICTACCSS_T1A+ICTACCSS_T1B+ICTACCSS_T1C+ENVIRO+NATURESSOURCE+WATER+WATER_T1A+WATER_T1B+FISHPROD+FISHPROD_T1A+FISHPROD_T1B+WASTE+WASTE_T1B+WASTE_T1A+AIRLAND+AIRQTY+AIRQTY_T1+SOXNOX+SOXNOX_T1A+SOXNOX_T1B+GREENHOUSE+EDUC+OUTCOME+PISA+PISA_T1I+PISA_T1J+PISA_T1K+PISA_T1L+PISA_T1A+PISA_T1B+PISA_T1C+PISA_T1D+PISA_T1E+PISA_T1F+PISA_T1H+PISA_T1G+MATHTREND+MATHTREND_T1A+MATHTREND_T1B+MATHTREND_T1C+MATHTREND_T1D+MATHTREND_T1E+MATHTREND_T1F+MATHTREND_T1G+SOCEXCLUS+SOCEXCLUS_T1A+SOCEXCLUS_T1B+STUDYABROAD+STUDYABROAD_G2+TERTIARY+TERTIARY_T1A+TERTIARY_T1B+TERTIARY_T1C+TERTIARY_T1D+TERTIARY_T1E+TERTIARY_T1F+EDUEXPEND+TEACHERS+TEACHERS_T1A+TEACHERS_T1B+TEACHERS_T1C+TEACHERS_T1D+TEACHERS_T1E+EXEDULV+EXEDULV_T1H+EXEDULV_T1A+EXEDULV_T1B+EXEDULV_T1C+EXEDULV_T1D+EXEDULV_T1E+EXEDULV_T1F+EXEDULV_T1G+EXEDULV_T1I+EXEDULV_T1J+EDUTEREXPND+EDUTEREXPND_T1A+EDUTEREXPND_T1B+EDUTEREXPND_T1C+EDUTEREXPND_T1D+EDUTEREXPND_T1E+EDUTEREXPND_T1F+GOV+GOVDEFDEBT+GOVDEFCT+GOVDEFCT_T1+GOVDEFCT_T2+GOVDEFCT_T3+GOVDEBT+GOVDEBT_T1+GOVDEBT_T2+GENGOV+GENGOVDISTRI+GENGOVDISTRI_T1A+GENGOVDISTRI_T1B+GENGOVDISTRI_T1C+GENGOVDISTRI_T1D+GENGOVDISTRI_T1E+GENGOVDISTRI_T1F+GENGOVDISTRI_T1G+GENGOVDISTRI_T1H+GENGOVDISTRI_T1I+GENGOVDISTRI_T1J+GENGOVEXPEND+GENGOVEXPEND_T1A+GENGOVEXPEND_T1B+GENGOVPROD+GENGOVPROD_T1A+GENGOVPROD_T1B+GENGOVPROD_T1C+GENGOVPROD_T1D+GOVTRANSPAR+DISCLOSURE+DISCLOSURE_G2+PUBLICEXP+SOCEXPND+SOCEXPND_T1A+SOCEXPND_T1B+SOCEXPND_T1C+PENSION+PENSION_T1A+PENSION_T1B+SUPAID+AGRSPPRT+AGRSPPRT_T1+FISHSUPP+FISHSUPP_T1+ODA+ODA_T1B+ODA_T1A+ODA_T2+TAXES+TOTALTAX+TOTALTAX_T1+TOTALTAX_T2+TOTALTAX_T3+TAXAPW+TAXAPW_T1+HEALTH+HEALTHSTATUS+LIFEEXPY+LIFEEXPY_T1A+LIFEEXPY_T1B+LIFEEXPY_T1C+INFMORTY+INFMORTY_G1A+INFMORTY_G1B+INFMORTY_G2+SUICID+SUICID_G1+HEALTHRISK+SMOKE+SMOKE_G1+SMOKE_G3B+SMOKE_G3A+ALCOHOL+ALCOHOL_G1+OBESITY+OBESITY_G1A+OBESITY_G1B+OBESITY_G1C+HEALTHRESOURC+DOCTOR+DOCTOR_G1+DOCTOR_G2A+DOCTOR_G2B+DOCTOR_G2C+DOCTOR_G3+NURSE+NURSE_G1+NURSE_G3+PPHLTHXP+PPHLTHXP_T1A+PPHLTHXP_T1B+PPHLTHXP_T1C.AUS+AUT+BEL+CAN+CHL+CZE+DNK+EST+FIN+FRA+DEU+GRC+HUN+ISL+IRL+ISR+ITA+JPN+KOR+LUX+MEX+NLD+NZL+NOR+POL+PRT+SVK+SVN+ESP+SWE+CHE+TUR+GBR+USA+BRA+CHN+IND+IDN+RUS+ZAF/all?startTime=2000&endTime=2019\u001b[39m\u001b[39m\"\u001b[39m\n\u001b[1;32m----> <a href='vscode-notebook-cell:/d%3A/1_Engin/1_Google_Drive/1_IT_Courses/1_Github/2_ProjectsMine/5_World_Factbook_Oecd_2000-2019/1_World_Factbook_Oecd_2000-2019.ipynb#ch0000004?line=6'>7</a>\u001b[0m data \u001b[39m=\u001b[39m oecd\u001b[39m.\u001b[39;49mdata(resource_id\u001b[39m=\u001b[39;49mdata_resource_id, key\u001b[39m=\u001b[39;49mdata_key)\n\u001b[0;32m      <a href='vscode-notebook-cell:/d%3A/1_Engin/1_Google_Drive/1_IT_Courses/1_Github/2_ProjectsMine/5_World_Factbook_Oecd_2000-2019/1_World_Factbook_Oecd_2000-2019.ipynb#ch0000004?line=7'>8</a>\u001b[0m data \u001b[39m=\u001b[39m data\u001b[39m.\u001b[39mto_pandas()\n\u001b[0;32m      <a href='vscode-notebook-cell:/d%3A/1_Engin/1_Google_Drive/1_IT_Courses/1_Github/2_ProjectsMine/5_World_Factbook_Oecd_2000-2019/1_World_Factbook_Oecd_2000-2019.ipynb#ch0000004?line=8'>9</a>\u001b[0m df \u001b[39m=\u001b[39m pd\u001b[39m.\u001b[39mDataFrame(data)\u001b[39m.\u001b[39mreset_index()\n",
      "File \u001b[1;32mc:\\Users\\engin\\AppData\\Local\\Programs\\Python\\Python39\\lib\\site-packages\\pandasdmx\\api.py:475\u001b[0m, in \u001b[0;36mRequest.get\u001b[1;34m(self, resource_type, resource_id, tofile, use_cache, dry_run, **kwargs)\u001b[0m\n\u001b[0;32m    473\u001b[0m     response\u001b[39m.\u001b[39mraise_for_status()\n\u001b[0;32m    474\u001b[0m \u001b[39mexcept\u001b[39;00m requests\u001b[39m.\u001b[39mexceptions\u001b[39m.\u001b[39mConnectionError \u001b[39mas\u001b[39;00m e:\n\u001b[1;32m--> 475\u001b[0m     \u001b[39mraise\u001b[39;00m e \u001b[39mfrom\u001b[39;00m \u001b[39mNone\u001b[39m\n\u001b[0;32m    476\u001b[0m \u001b[39mexcept\u001b[39;00m requests\u001b[39m.\u001b[39mexceptions\u001b[39m.\u001b[39mHTTPError \u001b[39mas\u001b[39;00m e:\n\u001b[0;32m    477\u001b[0m     \u001b[39m# Convert a 501 response to a Python NotImplementedError\u001b[39;00m\n\u001b[0;32m    478\u001b[0m     \u001b[39mif\u001b[39;00m e\u001b[39m.\u001b[39mresponse\u001b[39m.\u001b[39mstatus_code \u001b[39m==\u001b[39m \u001b[39m501\u001b[39m:\n",
      "File \u001b[1;32mc:\\Users\\engin\\AppData\\Local\\Programs\\Python\\Python39\\lib\\site-packages\\pandasdmx\\api.py:472\u001b[0m, in \u001b[0;36mRequest.get\u001b[1;34m(self, resource_type, resource_id, tofile, use_cache, dry_run, **kwargs)\u001b[0m\n\u001b[0;32m    469\u001b[0m     \u001b[39mreturn\u001b[39;00m req\n\u001b[0;32m    471\u001b[0m \u001b[39mtry\u001b[39;00m:\n\u001b[1;32m--> 472\u001b[0m     response \u001b[39m=\u001b[39m \u001b[39mself\u001b[39;49m\u001b[39m.\u001b[39;49msession\u001b[39m.\u001b[39;49msend(req, timeout\u001b[39m=\u001b[39;49m\u001b[39mself\u001b[39;49m\u001b[39m.\u001b[39;49mtimeout)\n\u001b[0;32m    473\u001b[0m     response\u001b[39m.\u001b[39mraise_for_status()\n\u001b[0;32m    474\u001b[0m \u001b[39mexcept\u001b[39;00m requests\u001b[39m.\u001b[39mexceptions\u001b[39m.\u001b[39mConnectionError \u001b[39mas\u001b[39;00m e:\n",
      "File \u001b[1;32mc:\\Users\\engin\\AppData\\Local\\Programs\\Python\\Python39\\lib\\site-packages\\requests_cache\\session.py:147\u001b[0m, in \u001b[0;36mCacheMixin.send\u001b[1;34m(self, request, expire_after, **kwargs)\u001b[0m\n\u001b[0;32m    145\u001b[0m \u001b[39m# If the response is expired or missing, or the cache is disabled, then fetch a new response\u001b[39;00m\n\u001b[0;32m    146\u001b[0m \u001b[39mif\u001b[39;00m cached_response \u001b[39mis\u001b[39;00m \u001b[39mNone\u001b[39;00m:\n\u001b[1;32m--> 147\u001b[0m     response \u001b[39m=\u001b[39m \u001b[39mself\u001b[39m\u001b[39m.\u001b[39m_send_and_cache(request, actions, \u001b[39m*\u001b[39m\u001b[39m*\u001b[39mkwargs)\n\u001b[0;32m    148\u001b[0m \u001b[39melif\u001b[39;00m is_expired \u001b[39mand\u001b[39;00m \u001b[39mself\u001b[39m\u001b[39m.\u001b[39mstale_if_error:\n\u001b[0;32m    149\u001b[0m     response \u001b[39m=\u001b[39m \u001b[39mself\u001b[39m\u001b[39m.\u001b[39m_resend_and_ignore(request, actions, cached_response, \u001b[39m*\u001b[39m\u001b[39m*\u001b[39mkwargs)\n",
      "File \u001b[1;32mc:\\Users\\engin\\AppData\\Local\\Programs\\Python\\Python39\\lib\\site-packages\\requests_cache\\session.py:189\u001b[0m, in \u001b[0;36mCacheMixin._send_and_cache\u001b[1;34m(self, request, actions, cached_response, **kwargs)\u001b[0m\n\u001b[0;32m    183\u001b[0m \u001b[39m\"\"\"Send the request and cache the response, unless disabled by settings or headers.\u001b[39;00m\n\u001b[0;32m    184\u001b[0m \n\u001b[0;32m    185\u001b[0m \u001b[39mIf applicable, also add headers to make a conditional request. If we get a 304 Not Modified\u001b[39;00m\n\u001b[0;32m    186\u001b[0m \u001b[39mresponse, return the stale cache item.\u001b[39;00m\n\u001b[0;32m    187\u001b[0m \u001b[39m\"\"\"\u001b[39;00m\n\u001b[0;32m    188\u001b[0m request\u001b[39m.\u001b[39mheaders\u001b[39m.\u001b[39mupdate(actions\u001b[39m.\u001b[39mvalidation_headers)\n\u001b[1;32m--> 189\u001b[0m response \u001b[39m=\u001b[39m \u001b[39msuper\u001b[39m()\u001b[39m.\u001b[39msend(request, \u001b[39m*\u001b[39m\u001b[39m*\u001b[39mkwargs)\n\u001b[0;32m    190\u001b[0m actions\u001b[39m.\u001b[39mupdate_from_response(response)\n\u001b[0;32m    192\u001b[0m \u001b[39mif\u001b[39;00m \u001b[39mself\u001b[39m\u001b[39m.\u001b[39m_is_cacheable(response, actions):\n",
      "File \u001b[1;32mc:\\Users\\engin\\AppData\\Local\\Programs\\Python\\Python39\\lib\\site-packages\\requests\\sessions.py:645\u001b[0m, in \u001b[0;36mSession.send\u001b[1;34m(self, request, **kwargs)\u001b[0m\n\u001b[0;32m    642\u001b[0m start \u001b[39m=\u001b[39m preferred_clock()\n\u001b[0;32m    644\u001b[0m \u001b[39m# Send the request\u001b[39;00m\n\u001b[1;32m--> 645\u001b[0m r \u001b[39m=\u001b[39m adapter\u001b[39m.\u001b[39msend(request, \u001b[39m*\u001b[39m\u001b[39m*\u001b[39mkwargs)\n\u001b[0;32m    647\u001b[0m \u001b[39m# Total elapsed time of the request (approximately)\u001b[39;00m\n\u001b[0;32m    648\u001b[0m elapsed \u001b[39m=\u001b[39m preferred_clock() \u001b[39m-\u001b[39m start\n",
      "File \u001b[1;32mc:\\Users\\engin\\AppData\\Local\\Programs\\Python\\Python39\\lib\\site-packages\\requests\\adapters.py:501\u001b[0m, in \u001b[0;36mHTTPAdapter.send\u001b[1;34m(self, request, stream, timeout, verify, cert, proxies)\u001b[0m\n\u001b[0;32m    498\u001b[0m             \u001b[39mraise\u001b[39;00m\n\u001b[0;32m    500\u001b[0m \u001b[39mexcept\u001b[39;00m (ProtocolError, socket\u001b[39m.\u001b[39merror) \u001b[39mas\u001b[39;00m err:\n\u001b[1;32m--> 501\u001b[0m     \u001b[39mraise\u001b[39;00m \u001b[39mConnectionError\u001b[39;00m(err, request\u001b[39m=\u001b[39mrequest)\n\u001b[0;32m    503\u001b[0m \u001b[39mexcept\u001b[39;00m MaxRetryError \u001b[39mas\u001b[39;00m e:\n\u001b[0;32m    504\u001b[0m     \u001b[39mif\u001b[39;00m \u001b[39misinstance\u001b[39m(e\u001b[39m.\u001b[39mreason, ConnectTimeoutError):\n\u001b[0;32m    505\u001b[0m         \u001b[39m# TODO: Remove this in 3.0.0: see #2811\u001b[39;00m\n",
      "\u001b[1;31mConnectionError\u001b[0m: ('Connection aborted.', ConnectionResetError(10054, 'An existing connection was forcibly closed by the remote host', None, 10054, None))"
     ]
    }
   ],
   "source": [
    "import pandasdmx as pdmx\n",
    "# Tell pdmx we want OECD data\n",
    "oecd = pdmx.Request(\"OECD\")\n",
    "# Set out everything about the request in the format specified by the OECD API\n",
    "data_resource_id=\"FACTBOOK2014_PUB\"\n",
    "data_key=\"POPMIG+DEMOGRAPHY+EVOPOP+EVOPOP_T1+EVOPOP_T2+EVOPOP_T4+FERTILITY+EVOPOP_T3+AGEING+AGEING_T1A+AGEING_T1B+POPGEO+POPGEO_G1+POPGEO_G2A+POPGEO_G2B+POPGEO_G2C+POPGEO_G2D+POPGEO_G3A+POPGEO_G3B+POPGEO_G3C+POPGEO_G4A+POPGEO_G4B+POPGEO_G4C+AGEDPOPGEO+AGEDPOPGEO_G1+AGEDPOPGEO_G2A+AGEDPOPGEO_G2B+AGEDPOPGEO_G2C+AGEDPOPGEO_G3A+AGEDPOPGEO_G3B+AGEDPOPGEO_G3C+MIGRATION+MIGFORPOP+MIGFORPOP_T1A+MIGFORPOP_T1B+MIGFORPOP_T1C+NETMIGR+NETMIGR_T1G+NETMIGR_T1C+NETMIGR_T1E+NETMIGR_T1D+NETMIGR_T1B+NETMIGR_T1A+NETMIGR_T1F+MIGEDUEMP+MIGEDUEMP_T1A+MIGEDUEMP_T1B+MIGEDUEMP_T1C+MIGEDUEMP_T1D+MIGEDUEMP_T1E+MIGEDUEMP_T1F+MIGUNEMP+MIGUNEMP_T1A+MIGUNEMP_T1B+MIGUNEMP_T1C+MIGUNEMP_T1D+MIGUNEMP_T1E+MIGUNEMP_T1F+MACRO+GDP+SIZEGDP+SIZEGDP_T2+EVOGDP+EVOGDP_T1+INVRATES+INVRATES_T1+PRODUCTIVITY+PRODINCOM+PRODINCOM_G1+PRODINCOM_G2A+PRODINCOM_G2B+PRODINCOM_G2C+PRODGWTHGDP+PRODGWTHGDP_T1B+PRODGWTHGDP_T1C+PRODGWTHGDP_T1A+PRODGWTHACC+PRODGWTHACC_T1A+PRODGWTHACC_T1E+PRODGWTHACC_T1B+PRODGWTHACC_T1C+PRODGWTHACC_T1D+PRODGWTHACC_T1F+PRODGWTHACC_T1G+PRODGWTHACC_T1H+PRODULC+PRODULC_T1+LABCOMPENS+LABCOMPENS_T1+ECOSTRUCTURE+VALADDAC+VALADDAC_T1A+VALADDAC_T1B+VALADDAC_T1C+VALADDAC_T1D+VALADDAC_T1E+VALADDAC_T1F+VALADDAC_T1G+EVOVA+EVOVA_T1A+EVOVA_T1B+EVOVA_T1D+EVOVA_T1E+EVOVA_T1F+EVOVA_T1G+SME+SME_T1C+SME_T1D+SME_T1E+SME_T1F+SME_T1G+SME_T1J+SME_T1K+SME_T1L+SME_T1M+SME_T1N+INCOME+HOUSINCOME+NATINCCAP+NATINCCAP_T1+HOUSINC+HOUSINC_T1+HOUSSAVE+HOUSSAVE_T1+INEQUALITY+INCINEQUAL+INCINEQUAL_T1A+INCINEQUAL_T1B+INCINEQUAL_T1C+INCINEQUAL_T1D+INCINEQUAL_T1E+INCINEQUAL_T1F+INCPOVERTY+INCPOVERTY_T1A+INCPOVERTY_T1B+INCPOVERTY_T1C+INCPOVERTY_T1D+INCPOVERTY_T1E+WEALTH+HOUSWEALTH+HOUSWEALTH_T1A+HOUSWEALTH_T1B+HOUSWEALTH_T1C+HOUSWEALTH_T1D+HOUSWEALTH_T1E+HOUSWEALTH_T1F+HOUSDEBT+HOUSDEBT_T1+HOUSNONFIN+HOUSNONFIN_T1A+HOUSNONFIN_T1B+HOUSNONFIN_T1C+GLOBAL+TRADE+TRADEGDP+TRADEGDP_T1A+TRADEGDP_T1B+MERTRADE+MERTRADE_T2+MERTRADE_T1+MERTRADE_T3+SVCTRADE+SVCTRADE_T1+SVCTRADE_T2+SVCTRADE_T3+TRDPRTNR+TRDPRTNR_T1A+TRDPRTNR_T1B+TRDPRTNR_T1C+TIVA+TIVA_T1+TIVA_T2A+TIVA_T2B+TIVA_T2C+TIVA_T2D+TIVA_T2E+TIVA_T2F+TIVA_T2G+TIVA_T2H+TIVA_T2I+TIVA_T2J+FDI+FDIFLSTK+FDIFLSTK_T1A+FDIFLSTK_T1B+FDIFLSTK_T2A+FDIFLSTK_T2B+FDIFLSTK_T3H+FDIFLSTK_T3J+FDIFLSTK_T3I+FDIFLSTK_T3G+FDIFLSTK_T3A+FDIFLSTK_T3C+FDIFLSTK_T3D+FDIFLSTK_T3E+FDIFLSTK_T3B+FDIFLSTK_T3F+BOP+BOP_T1+PRICES+CPIPPI+CPI+CPI_T3B+CPI_T3A+CPI_T1+CPI_T2+PPI+PPI_T1+LTINTRST+LTINTRST_T1+PURCHASING+RTSCONV+RTSCONV_T1+RTSCONV_T2+RTSCONV_T3+INTLCOMP+INTLCOMP_T1+ENERGY+ENERGYSUP+WENERGYS+WENERGYS_T1+TPES+TPES_T1+WELECGEN+WELECGEN_T1+NUCLEARNRJ+NUCLEARNRJ_T1A+NUCLEARNRJ_T1B+NUCLEARNRJ_T1C+NUCLEARNRJ_T1D+RNEWABLE+RNEWABLE_T1+OILPROD+OILPROD_T1+OILPRICES+OILPRICES_T1+TRANSPORT+TRANSPGOOD+TRANSPGOOD_T1+TRANSPPASSENG+TRANSPPASSENG_T1+RDDEATH+RDDEATH_T1+LABOUR+EMPLOYMENT+EMPLGNDR+EMPLGNDR_T2+EMPLGNDR_T1+EMPLGNDR_T3+EMPLAGE+EMPLAGE_T1A+EMPLAGE_T1B+EMPLAGE_T1C+PTEMPL+PTEMPL_T1+SELFEMPL+SELFEMPL_T1A+SELFEMPL_T1B+SELFEMPL_T1C+REGDISPLABOUR+REGDISPLABOUR_G1A+REGDISPLABOUR_G1B+REGDISPLABOUR_G1C+REGDISPLABOUR_G2+REGDISPLABOUR_G3A+REGDISPLABOUR_G3B+REGDISPLABOUR_G3C+HOURSWKD+HOURSWKD_T1+UNEMPLOYMENT+UNEMPLRT+UNEMPLRT_T1B+UNEMPLRT_T1A+UNEMPLRT_T1C+LTUNEMP+LTUNEMP_T1+REGDISPUNEMP+REGDISPUNEMP_G1+REGDISPUNEMP_G2A+REGDISPUNEMP_G2B+REGDISPUNEMP_G2C+REGDISPUNEMP_G3A+REGDISPUNEMP_G3B+REGDISPUNEMP_G3C+SCTECH+RND+GERD+GERD_T1+RESEARCH+RESEARCH_T1+PATENTS+PATENTS_T1+INNOVURBAN+INNOVURBAN_G1A+INNOVURBAN_G1B+INNOVURBAN_G2A+INNOVURBAN_G2B+ICT+SIZEICT+SIZEICT_T1A+SIZEICT_T1B+SIZEICT_T1C+SIZEICT_T1D+EXPORTCOMM+EXPORTCOMM_T1+ICTACCSS+ICTACCSS_T1A+ICTACCSS_T1B+ICTACCSS_T1C+ENVIRO+NATURESSOURCE+WATER+WATER_T1A+WATER_T1B+FISHPROD+FISHPROD_T1A+FISHPROD_T1B+WASTE+WASTE_T1B+WASTE_T1A+AIRLAND+AIRQTY+AIRQTY_T1+SOXNOX+SOXNOX_T1A+SOXNOX_T1B+GREENHOUSE+EDUC+OUTCOME+PISA+PISA_T1I+PISA_T1J+PISA_T1K+PISA_T1L+PISA_T1A+PISA_T1B+PISA_T1C+PISA_T1D+PISA_T1E+PISA_T1F+PISA_T1H+PISA_T1G+MATHTREND+MATHTREND_T1A+MATHTREND_T1B+MATHTREND_T1C+MATHTREND_T1D+MATHTREND_T1E+MATHTREND_T1F+MATHTREND_T1G+SOCEXCLUS+SOCEXCLUS_T1A+SOCEXCLUS_T1B+STUDYABROAD+STUDYABROAD_G2+TERTIARY+TERTIARY_T1A+TERTIARY_T1B+TERTIARY_T1C+TERTIARY_T1D+TERTIARY_T1E+TERTIARY_T1F+EDUEXPEND+TEACHERS+TEACHERS_T1A+TEACHERS_T1B+TEACHERS_T1C+TEACHERS_T1D+TEACHERS_T1E+EXEDULV+EXEDULV_T1H+EXEDULV_T1A+EXEDULV_T1B+EXEDULV_T1C+EXEDULV_T1D+EXEDULV_T1E+EXEDULV_T1F+EXEDULV_T1G+EXEDULV_T1I+EXEDULV_T1J+EDUTEREXPND+EDUTEREXPND_T1A+EDUTEREXPND_T1B+EDUTEREXPND_T1C+EDUTEREXPND_T1D+EDUTEREXPND_T1E+EDUTEREXPND_T1F+GOV+GOVDEFDEBT+GOVDEFCT+GOVDEFCT_T1+GOVDEFCT_T2+GOVDEFCT_T3+GOVDEBT+GOVDEBT_T1+GOVDEBT_T2+GENGOV+GENGOVDISTRI+GENGOVDISTRI_T1A+GENGOVDISTRI_T1B+GENGOVDISTRI_T1C+GENGOVDISTRI_T1D+GENGOVDISTRI_T1E+GENGOVDISTRI_T1F+GENGOVDISTRI_T1G+GENGOVDISTRI_T1H+GENGOVDISTRI_T1I+GENGOVDISTRI_T1J+GENGOVEXPEND+GENGOVEXPEND_T1A+GENGOVEXPEND_T1B+GENGOVPROD+GENGOVPROD_T1A+GENGOVPROD_T1B+GENGOVPROD_T1C+GENGOVPROD_T1D+GOVTRANSPAR+DISCLOSURE+DISCLOSURE_G2+PUBLICEXP+SOCEXPND+SOCEXPND_T1A+SOCEXPND_T1B+SOCEXPND_T1C+PENSION+PENSION_T1A+PENSION_T1B+SUPAID+AGRSPPRT+AGRSPPRT_T1+FISHSUPP+FISHSUPP_T1+ODA+ODA_T1B+ODA_T1A+ODA_T2+TAXES+TOTALTAX+TOTALTAX_T1+TOTALTAX_T2+TOTALTAX_T3+TAXAPW+TAXAPW_T1+HEALTH+HEALTHSTATUS+LIFEEXPY+LIFEEXPY_T1A+LIFEEXPY_T1B+LIFEEXPY_T1C+INFMORTY+INFMORTY_G1A+INFMORTY_G1B+INFMORTY_G2+SUICID+SUICID_G1+HEALTHRISK+SMOKE+SMOKE_G1+SMOKE_G3B+SMOKE_G3A+ALCOHOL+ALCOHOL_G1+OBESITY+OBESITY_G1A+OBESITY_G1B+OBESITY_G1C+HEALTHRESOURC+DOCTOR+DOCTOR_G1+DOCTOR_G2A+DOCTOR_G2B+DOCTOR_G2C+DOCTOR_G3+NURSE+NURSE_G1+NURSE_G3+PPHLTHXP+PPHLTHXP_T1A+PPHLTHXP_T1B+PPHLTHXP_T1C.AUS+AUT+BEL+CAN+CHL+CZE+DNK+EST+FIN+FRA+DEU+GRC+HUN+ISL+IRL+ISR+ITA+JPN+KOR+LUX+MEX+NLD+NZL+NOR+POL+PRT+SVK+SVN+ESP+SWE+CHE+TUR+GBR+USA+BRA+CHN+IND+IDN+RUS+ZAF/all?startTime=2000&endTime=2019\"\n",
    "data = oecd.data(resource_id=data_resource_id, key=data_key)\n",
    "data = data.to_pandas()\n",
    "df = pd.DataFrame(data).reset_index()\n",
    "df.head()"
   ]
  },
  {
   "cell_type": "code",
   "execution_count": null,
   "metadata": {},
   "outputs": [],
   "source": [
    "df.to_csv(\"oecd_factbook.csv\")"
   ]
  },
  {
   "cell_type": "code",
   "execution_count": null,
   "metadata": {},
   "outputs": [],
   "source": [
    "df = pd.read_csv(\"oecd_factbook.csv\")\n",
    "df.drop(\"Unnamed: 0\", axis=1, inplace=True)"
   ]
  },
  {
   "cell_type": "code",
   "execution_count": null,
   "metadata": {},
   "outputs": [
    {
     "data": {
      "text/plain": [
       "(206871, 5)"
      ]
     },
     "execution_count": 7,
     "metadata": {},
     "output_type": "execute_result"
    }
   ],
   "source": [
    "df.shape"
   ]
  },
  {
   "cell_type": "code",
   "execution_count": null,
   "metadata": {},
   "outputs": [
    {
     "data": {
      "text/html": [
       "<div>\n",
       "<style scoped>\n",
       "    .dataframe tbody tr th:only-of-type {\n",
       "        vertical-align: middle;\n",
       "    }\n",
       "\n",
       "    .dataframe tbody tr th {\n",
       "        vertical-align: top;\n",
       "    }\n",
       "\n",
       "    .dataframe thead th {\n",
       "        text-align: right;\n",
       "    }\n",
       "</style>\n",
       "<table border=\"1\" class=\"dataframe\">\n",
       "  <thead>\n",
       "    <tr style=\"text-align: right;\">\n",
       "      <th></th>\n",
       "      <th>COUNTRY</th>\n",
       "      <th>COMMODITY</th>\n",
       "      <th>VARIABLE</th>\n",
       "      <th>TIME_PERIOD</th>\n",
       "      <th>value</th>\n",
       "    </tr>\n",
       "  </thead>\n",
       "  <tbody>\n",
       "    <tr>\n",
       "      <th>0</th>\n",
       "      <td>ARG</td>\n",
       "      <td>BD</td>\n",
       "      <td>NT</td>\n",
       "      <td>2004</td>\n",
       "      <td>0.0</td>\n",
       "    </tr>\n",
       "  </tbody>\n",
       "</table>\n",
       "</div>"
      ],
      "text/plain": [
       "  COUNTRY COMMODITY VARIABLE  TIME_PERIOD  value\n",
       "0     ARG        BD       NT         2004    0.0"
      ]
     },
     "execution_count": 8,
     "metadata": {},
     "output_type": "execute_result"
    }
   ],
   "source": [
    "df.head(1)"
   ]
  },
  {
   "cell_type": "code",
   "execution_count": 9,
   "metadata": {},
   "outputs": [
    {
     "data": {
      "text/plain": [
       "array(['ARG', 'AUS', 'BGD', 'BRA', 'CAN', 'CHL', 'CHN', 'DVD', 'DVG',\n",
       "       'DZA', 'E27', 'EGY', 'IDN', 'IND', 'IRN', 'JPN', 'KOR', 'LDC',\n",
       "       'MEX', 'MYS', 'NME', 'NZL', 'O29', 'PAK', 'RUS', 'SAU', 'SSA',\n",
       "       'TUR', 'UKR', 'URY', 'USA', 'WLD', 'ZAF'], dtype=object)"
      ]
     },
     "execution_count": 9,
     "metadata": {},
     "output_type": "execute_result"
    }
   ],
   "source": [
    "df.COUNTRY.unique()"
   ]
  },
  {
   "cell_type": "code",
   "execution_count": 10,
   "metadata": {},
   "outputs": [],
   "source": [
    "drop_list = [\"DVD\", \"DVG\", \"E27\", \"LDC\", \"NME\", \"O29\", \"WLD\"]\n",
    "for i in drop_list:\n",
    "    df.drop(df[df[\"COUNTRY\"]==i].index, inplace=True)"
   ]
  },
  {
   "cell_type": "code",
   "execution_count": 11,
   "metadata": {},
   "outputs": [
    {
     "data": {
      "text/plain": [
       "array(['ARG', 'AUS', 'BGD', 'BRA', 'CAN', 'CHL', 'CHN', 'DZA', 'EGY',\n",
       "       'IDN', 'IND', 'IRN', 'JPN', 'KOR', 'MEX', 'MYS', 'NZL', 'PAK',\n",
       "       'RUS', 'SAU', 'SSA', 'TUR', 'UKR', 'URY', 'USA', 'ZAF'],\n",
       "      dtype=object)"
      ]
     },
     "execution_count": 11,
     "metadata": {},
     "output_type": "execute_result"
    }
   ],
   "source": [
    "df.COUNTRY.unique()"
   ]
  },
  {
   "cell_type": "code",
   "execution_count": 12,
   "metadata": {},
   "outputs": [
    {
     "data": {
      "text/plain": [
       "(179930, 5)"
      ]
     },
     "execution_count": 12,
     "metadata": {},
     "output_type": "execute_result"
    }
   ],
   "source": [
    "df.shape"
   ]
  },
  {
   "cell_type": "code",
   "execution_count": 13,
   "metadata": {},
   "outputs": [
    {
     "data": {
      "text/html": [
       "<div>\n",
       "<style scoped>\n",
       "    .dataframe tbody tr th:only-of-type {\n",
       "        vertical-align: middle;\n",
       "    }\n",
       "\n",
       "    .dataframe tbody tr th {\n",
       "        vertical-align: top;\n",
       "    }\n",
       "\n",
       "    .dataframe thead th {\n",
       "        text-align: right;\n",
       "    }\n",
       "</style>\n",
       "<table border=\"1\" class=\"dataframe\">\n",
       "  <thead>\n",
       "    <tr style=\"text-align: right;\">\n",
       "      <th></th>\n",
       "      <th>COUNTRY</th>\n",
       "      <th>COMMODITY</th>\n",
       "      <th>VARIABLE</th>\n",
       "      <th>TIME_PERIOD</th>\n",
       "      <th>value</th>\n",
       "    </tr>\n",
       "  </thead>\n",
       "  <tbody>\n",
       "    <tr>\n",
       "      <th>206866</th>\n",
       "      <td>ZAF</td>\n",
       "      <td>WT</td>\n",
       "      <td>YLD</td>\n",
       "      <td>2015</td>\n",
       "      <td>2.973232</td>\n",
       "    </tr>\n",
       "    <tr>\n",
       "      <th>206867</th>\n",
       "      <td>ZAF</td>\n",
       "      <td>WT</td>\n",
       "      <td>YLD</td>\n",
       "      <td>2016</td>\n",
       "      <td>2.991035</td>\n",
       "    </tr>\n",
       "    <tr>\n",
       "      <th>206868</th>\n",
       "      <td>ZAF</td>\n",
       "      <td>WT</td>\n",
       "      <td>YLD</td>\n",
       "      <td>2017</td>\n",
       "      <td>3.004720</td>\n",
       "    </tr>\n",
       "    <tr>\n",
       "      <th>206869</th>\n",
       "      <td>ZAF</td>\n",
       "      <td>WT</td>\n",
       "      <td>YLD</td>\n",
       "      <td>2018</td>\n",
       "      <td>3.018791</td>\n",
       "    </tr>\n",
       "    <tr>\n",
       "      <th>206870</th>\n",
       "      <td>ZAF</td>\n",
       "      <td>WT</td>\n",
       "      <td>YLD</td>\n",
       "      <td>2019</td>\n",
       "      <td>3.033136</td>\n",
       "    </tr>\n",
       "  </tbody>\n",
       "</table>\n",
       "</div>"
      ],
      "text/plain": [
       "       COUNTRY COMMODITY VARIABLE  TIME_PERIOD     value\n",
       "206866     ZAF        WT      YLD         2015  2.973232\n",
       "206867     ZAF        WT      YLD         2016  2.991035\n",
       "206868     ZAF        WT      YLD         2017  3.004720\n",
       "206869     ZAF        WT      YLD         2018  3.018791\n",
       "206870     ZAF        WT      YLD         2019  3.033136"
      ]
     },
     "execution_count": 13,
     "metadata": {},
     "output_type": "execute_result"
    }
   ],
   "source": [
    "df.tail()"
   ]
  },
  {
   "cell_type": "code",
   "execution_count": 14,
   "metadata": {},
   "outputs": [
    {
     "data": {
      "text/html": [
       "<div>\n",
       "<style scoped>\n",
       "    .dataframe tbody tr th:only-of-type {\n",
       "        vertical-align: middle;\n",
       "    }\n",
       "\n",
       "    .dataframe tbody tr th {\n",
       "        vertical-align: top;\n",
       "    }\n",
       "\n",
       "    .dataframe thead th {\n",
       "        text-align: right;\n",
       "    }\n",
       "</style>\n",
       "<table border=\"1\" class=\"dataframe\">\n",
       "  <thead>\n",
       "    <tr style=\"text-align: right;\">\n",
       "      <th></th>\n",
       "      <th>COUNTRY</th>\n",
       "      <th>COMMODITY</th>\n",
       "      <th>VARIABLE</th>\n",
       "      <th>TIME_PERIOD</th>\n",
       "      <th>value</th>\n",
       "    </tr>\n",
       "  </thead>\n",
       "  <tbody>\n",
       "    <tr>\n",
       "      <th>0</th>\n",
       "      <td>ARG</td>\n",
       "      <td>BD</td>\n",
       "      <td>NT</td>\n",
       "      <td>2004</td>\n",
       "      <td>0.000000</td>\n",
       "    </tr>\n",
       "    <tr>\n",
       "      <th>1</th>\n",
       "      <td>ARG</td>\n",
       "      <td>BD</td>\n",
       "      <td>NT</td>\n",
       "      <td>2005</td>\n",
       "      <td>0.000000</td>\n",
       "    </tr>\n",
       "    <tr>\n",
       "      <th>2</th>\n",
       "      <td>ARG</td>\n",
       "      <td>BD</td>\n",
       "      <td>NT</td>\n",
       "      <td>2006</td>\n",
       "      <td>0.000000</td>\n",
       "    </tr>\n",
       "    <tr>\n",
       "      <th>3</th>\n",
       "      <td>ARG</td>\n",
       "      <td>BD</td>\n",
       "      <td>NT</td>\n",
       "      <td>2007</td>\n",
       "      <td>459.090909</td>\n",
       "    </tr>\n",
       "    <tr>\n",
       "      <th>4</th>\n",
       "      <td>ARG</td>\n",
       "      <td>BD</td>\n",
       "      <td>NT</td>\n",
       "      <td>2008</td>\n",
       "      <td>1400.000000</td>\n",
       "    </tr>\n",
       "    <tr>\n",
       "      <th>...</th>\n",
       "      <td>...</td>\n",
       "      <td>...</td>\n",
       "      <td>...</td>\n",
       "      <td>...</td>\n",
       "      <td>...</td>\n",
       "    </tr>\n",
       "    <tr>\n",
       "      <th>179925</th>\n",
       "      <td>ZAF</td>\n",
       "      <td>WT</td>\n",
       "      <td>YLD</td>\n",
       "      <td>2015</td>\n",
       "      <td>2.973232</td>\n",
       "    </tr>\n",
       "    <tr>\n",
       "      <th>179926</th>\n",
       "      <td>ZAF</td>\n",
       "      <td>WT</td>\n",
       "      <td>YLD</td>\n",
       "      <td>2016</td>\n",
       "      <td>2.991035</td>\n",
       "    </tr>\n",
       "    <tr>\n",
       "      <th>179927</th>\n",
       "      <td>ZAF</td>\n",
       "      <td>WT</td>\n",
       "      <td>YLD</td>\n",
       "      <td>2017</td>\n",
       "      <td>3.004720</td>\n",
       "    </tr>\n",
       "    <tr>\n",
       "      <th>179928</th>\n",
       "      <td>ZAF</td>\n",
       "      <td>WT</td>\n",
       "      <td>YLD</td>\n",
       "      <td>2018</td>\n",
       "      <td>3.018791</td>\n",
       "    </tr>\n",
       "    <tr>\n",
       "      <th>179929</th>\n",
       "      <td>ZAF</td>\n",
       "      <td>WT</td>\n",
       "      <td>YLD</td>\n",
       "      <td>2019</td>\n",
       "      <td>3.033136</td>\n",
       "    </tr>\n",
       "  </tbody>\n",
       "</table>\n",
       "<p>179930 rows × 5 columns</p>\n",
       "</div>"
      ],
      "text/plain": [
       "       COUNTRY COMMODITY VARIABLE  TIME_PERIOD        value\n",
       "0          ARG        BD       NT         2004     0.000000\n",
       "1          ARG        BD       NT         2005     0.000000\n",
       "2          ARG        BD       NT         2006     0.000000\n",
       "3          ARG        BD       NT         2007   459.090909\n",
       "4          ARG        BD       NT         2008  1400.000000\n",
       "...        ...       ...      ...          ...          ...\n",
       "179925     ZAF        WT      YLD         2015     2.973232\n",
       "179926     ZAF        WT      YLD         2016     2.991035\n",
       "179927     ZAF        WT      YLD         2017     3.004720\n",
       "179928     ZAF        WT      YLD         2018     3.018791\n",
       "179929     ZAF        WT      YLD         2019     3.033136\n",
       "\n",
       "[179930 rows x 5 columns]"
      ]
     },
     "execution_count": 14,
     "metadata": {},
     "output_type": "execute_result"
    }
   ],
   "source": [
    "df = df.reset_index(drop=True)\n",
    "df"
   ]
  },
  {
   "cell_type": "code",
   "execution_count": 15,
   "metadata": {},
   "outputs": [
    {
     "data": {
      "text/plain": [
       "COUNTRY        False\n",
       "COMMODITY      False\n",
       "VARIABLE       False\n",
       "TIME_PERIOD    False\n",
       "value          False\n",
       "dtype: bool"
      ]
     },
     "execution_count": 15,
     "metadata": {},
     "output_type": "execute_result"
    }
   ],
   "source": [
    "df.isna().all()"
   ]
  },
  {
   "cell_type": "code",
   "execution_count": null,
   "metadata": {},
   "outputs": [],
   "source": []
  }
 ],
 "metadata": {
  "kernelspec": {
   "display_name": "Python 3.9.7 64-bit",
   "language": "python",
   "name": "python3"
  },
  "language_info": {
   "codemirror_mode": {
    "name": "ipython",
    "version": 3
   },
   "file_extension": ".py",
   "mimetype": "text/x-python",
   "name": "python",
   "nbconvert_exporter": "python",
   "pygments_lexer": "ipython3",
   "version": "3.9.7"
  },
  "orig_nbformat": 4,
  "vscode": {
   "interpreter": {
    "hash": "78d5379cc5a4e608d385c34b2eb3bb89eeab02a92c9e7d486e469b4c860ee8ca"
   }
  }
 },
 "nbformat": 4,
 "nbformat_minor": 2
}
