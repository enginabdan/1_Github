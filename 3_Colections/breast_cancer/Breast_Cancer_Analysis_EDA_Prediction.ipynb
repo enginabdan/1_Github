{
 "cells": [
  {
   "cell_type": "code",
   "execution_count": 3,
   "metadata": {},
   "outputs": [],
   "source": [
    "# Breast Cancer Analysis - EDA and Prediction"
   ]
  },
  {
   "cell_type": "code",
   "execution_count": 4,
   "metadata": {},
   "outputs": [],
   "source": [
    "import numpy as np\n",
    "import pandas as pd\n",
    "import seaborn as sns\n",
    "import matplotlib.pyplot as plt\n",
    "import warnings\n",
    "warnings.filterwarnings('ignore')"
   ]
  },
  {
   "cell_type": "code",
   "execution_count": 5,
   "metadata": {},
   "outputs": [],
   "source": [
    "breast_cancer = pd.read_csv(\"breast_cancer.csv\")"
   ]
  },
  {
   "cell_type": "code",
   "execution_count": 6,
   "metadata": {},
   "outputs": [
    {
     "data": {
      "text/html": [
       "<div>\n",
       "<style scoped>\n",
       "    .dataframe tbody tr th:only-of-type {\n",
       "        vertical-align: middle;\n",
       "    }\n",
       "\n",
       "    .dataframe tbody tr th {\n",
       "        vertical-align: top;\n",
       "    }\n",
       "\n",
       "    .dataframe thead th {\n",
       "        text-align: right;\n",
       "    }\n",
       "</style>\n",
       "<table border=\"1\" class=\"dataframe\">\n",
       "  <thead>\n",
       "    <tr style=\"text-align: right;\">\n",
       "      <th></th>\n",
       "      <th>Patient_ID</th>\n",
       "      <th>Age</th>\n",
       "      <th>Gender</th>\n",
       "      <th>Protein1</th>\n",
       "      <th>Protein2</th>\n",
       "      <th>Protein3</th>\n",
       "      <th>Protein4</th>\n",
       "      <th>Tumour_Stage</th>\n",
       "      <th>Histology</th>\n",
       "      <th>ER status</th>\n",
       "      <th>PR status</th>\n",
       "      <th>HER2 status</th>\n",
       "      <th>Surgery_type</th>\n",
       "      <th>Date_of_Surgery</th>\n",
       "      <th>Date_of_Last_Visit</th>\n",
       "      <th>Patient_Status</th>\n",
       "    </tr>\n",
       "  </thead>\n",
       "  <tbody>\n",
       "    <tr>\n",
       "      <th>0</th>\n",
       "      <td>TCGA-D8-A1XD</td>\n",
       "      <td>36</td>\n",
       "      <td>FEMALE</td>\n",
       "      <td>0.080353</td>\n",
       "      <td>0.42638</td>\n",
       "      <td>0.54715</td>\n",
       "      <td>0.273680</td>\n",
       "      <td>III</td>\n",
       "      <td>Infiltrating Ductal Carcinoma</td>\n",
       "      <td>Positive</td>\n",
       "      <td>Positive</td>\n",
       "      <td>Negative</td>\n",
       "      <td>Modified Radical Mastectomy</td>\n",
       "      <td>15-Jan-17</td>\n",
       "      <td>19-Jun-17</td>\n",
       "      <td>Alive</td>\n",
       "    </tr>\n",
       "    <tr>\n",
       "      <th>1</th>\n",
       "      <td>TCGA-EW-A1OX</td>\n",
       "      <td>43</td>\n",
       "      <td>FEMALE</td>\n",
       "      <td>-0.420320</td>\n",
       "      <td>0.57807</td>\n",
       "      <td>0.61447</td>\n",
       "      <td>-0.031505</td>\n",
       "      <td>II</td>\n",
       "      <td>Mucinous Carcinoma</td>\n",
       "      <td>Positive</td>\n",
       "      <td>Positive</td>\n",
       "      <td>Negative</td>\n",
       "      <td>Lumpectomy</td>\n",
       "      <td>26-Apr-17</td>\n",
       "      <td>09-Nov-18</td>\n",
       "      <td>Dead</td>\n",
       "    </tr>\n",
       "    <tr>\n",
       "      <th>2</th>\n",
       "      <td>TCGA-A8-A079</td>\n",
       "      <td>69</td>\n",
       "      <td>FEMALE</td>\n",
       "      <td>0.213980</td>\n",
       "      <td>1.31140</td>\n",
       "      <td>-0.32747</td>\n",
       "      <td>-0.234260</td>\n",
       "      <td>III</td>\n",
       "      <td>Infiltrating Ductal Carcinoma</td>\n",
       "      <td>Positive</td>\n",
       "      <td>Positive</td>\n",
       "      <td>Negative</td>\n",
       "      <td>Other</td>\n",
       "      <td>08-Sep-17</td>\n",
       "      <td>09-Jun-18</td>\n",
       "      <td>Alive</td>\n",
       "    </tr>\n",
       "    <tr>\n",
       "      <th>3</th>\n",
       "      <td>TCGA-D8-A1XR</td>\n",
       "      <td>56</td>\n",
       "      <td>FEMALE</td>\n",
       "      <td>0.345090</td>\n",
       "      <td>-0.21147</td>\n",
       "      <td>-0.19304</td>\n",
       "      <td>0.124270</td>\n",
       "      <td>II</td>\n",
       "      <td>Infiltrating Ductal Carcinoma</td>\n",
       "      <td>Positive</td>\n",
       "      <td>Positive</td>\n",
       "      <td>Negative</td>\n",
       "      <td>Modified Radical Mastectomy</td>\n",
       "      <td>25-Jan-17</td>\n",
       "      <td>12-Jul-17</td>\n",
       "      <td>Alive</td>\n",
       "    </tr>\n",
       "    <tr>\n",
       "      <th>4</th>\n",
       "      <td>TCGA-BH-A0BF</td>\n",
       "      <td>56</td>\n",
       "      <td>FEMALE</td>\n",
       "      <td>0.221550</td>\n",
       "      <td>1.90680</td>\n",
       "      <td>0.52045</td>\n",
       "      <td>-0.311990</td>\n",
       "      <td>II</td>\n",
       "      <td>Infiltrating Ductal Carcinoma</td>\n",
       "      <td>Positive</td>\n",
       "      <td>Positive</td>\n",
       "      <td>Negative</td>\n",
       "      <td>Other</td>\n",
       "      <td>06-May-17</td>\n",
       "      <td>27-Jun-19</td>\n",
       "      <td>Dead</td>\n",
       "    </tr>\n",
       "  </tbody>\n",
       "</table>\n",
       "</div>"
      ],
      "text/plain": [
       "     Patient_ID  Age  Gender  Protein1  Protein2  Protein3  Protein4  \\\n",
       "0  TCGA-D8-A1XD   36  FEMALE  0.080353   0.42638   0.54715  0.273680   \n",
       "1  TCGA-EW-A1OX   43  FEMALE -0.420320   0.57807   0.61447 -0.031505   \n",
       "2  TCGA-A8-A079   69  FEMALE  0.213980   1.31140  -0.32747 -0.234260   \n",
       "3  TCGA-D8-A1XR   56  FEMALE  0.345090  -0.21147  -0.19304  0.124270   \n",
       "4  TCGA-BH-A0BF   56  FEMALE  0.221550   1.90680   0.52045 -0.311990   \n",
       "\n",
       "  Tumour_Stage                      Histology ER status PR status HER2 status  \\\n",
       "0          III  Infiltrating Ductal Carcinoma  Positive  Positive    Negative   \n",
       "1           II             Mucinous Carcinoma  Positive  Positive    Negative   \n",
       "2          III  Infiltrating Ductal Carcinoma  Positive  Positive    Negative   \n",
       "3           II  Infiltrating Ductal Carcinoma  Positive  Positive    Negative   \n",
       "4           II  Infiltrating Ductal Carcinoma  Positive  Positive    Negative   \n",
       "\n",
       "                  Surgery_type Date_of_Surgery Date_of_Last_Visit  \\\n",
       "0  Modified Radical Mastectomy       15-Jan-17          19-Jun-17   \n",
       "1                   Lumpectomy       26-Apr-17          09-Nov-18   \n",
       "2                        Other       08-Sep-17          09-Jun-18   \n",
       "3  Modified Radical Mastectomy       25-Jan-17          12-Jul-17   \n",
       "4                        Other       06-May-17          27-Jun-19   \n",
       "\n",
       "  Patient_Status  \n",
       "0          Alive  \n",
       "1           Dead  \n",
       "2          Alive  \n",
       "3          Alive  \n",
       "4           Dead  "
      ]
     },
     "execution_count": 6,
     "metadata": {},
     "output_type": "execute_result"
    }
   ],
   "source": [
    "breast_cancer.head()"
   ]
  },
  {
   "cell_type": "code",
   "execution_count": 7,
   "metadata": {},
   "outputs": [
    {
     "data": {
      "text/html": [
       "<div>\n",
       "<style scoped>\n",
       "    .dataframe tbody tr th:only-of-type {\n",
       "        vertical-align: middle;\n",
       "    }\n",
       "\n",
       "    .dataframe tbody tr th {\n",
       "        vertical-align: top;\n",
       "    }\n",
       "\n",
       "    .dataframe thead th {\n",
       "        text-align: right;\n",
       "    }\n",
       "</style>\n",
       "<table border=\"1\" class=\"dataframe\">\n",
       "  <thead>\n",
       "    <tr style=\"text-align: right;\">\n",
       "      <th></th>\n",
       "      <th>Patient_ID</th>\n",
       "      <th>Age</th>\n",
       "      <th>Gender</th>\n",
       "      <th>Protein1</th>\n",
       "      <th>Protein2</th>\n",
       "      <th>Protein3</th>\n",
       "      <th>Protein4</th>\n",
       "      <th>Tumour_Stage</th>\n",
       "      <th>Histology</th>\n",
       "      <th>ER status</th>\n",
       "      <th>PR status</th>\n",
       "      <th>HER2 status</th>\n",
       "      <th>Surgery_type</th>\n",
       "      <th>Date_of_Surgery</th>\n",
       "      <th>Date_of_Last_Visit</th>\n",
       "      <th>Patient_Status</th>\n",
       "    </tr>\n",
       "  </thead>\n",
       "  <tbody>\n",
       "    <tr>\n",
       "      <th>329</th>\n",
       "      <td>TCGA-AN-A04A</td>\n",
       "      <td>36</td>\n",
       "      <td>FEMALE</td>\n",
       "      <td>0.23180</td>\n",
       "      <td>0.61804</td>\n",
       "      <td>-0.55779</td>\n",
       "      <td>-0.517350</td>\n",
       "      <td>III</td>\n",
       "      <td>Infiltrating Ductal Carcinoma</td>\n",
       "      <td>Positive</td>\n",
       "      <td>Positive</td>\n",
       "      <td>Positive</td>\n",
       "      <td>Simple Mastectomy</td>\n",
       "      <td>11-Nov-19</td>\n",
       "      <td>09-Feb-20</td>\n",
       "      <td>Dead</td>\n",
       "    </tr>\n",
       "    <tr>\n",
       "      <th>330</th>\n",
       "      <td>TCGA-A8-A085</td>\n",
       "      <td>44</td>\n",
       "      <td>MALE</td>\n",
       "      <td>0.73272</td>\n",
       "      <td>1.11170</td>\n",
       "      <td>-0.26952</td>\n",
       "      <td>-0.354920</td>\n",
       "      <td>II</td>\n",
       "      <td>Infiltrating Lobular Carcinoma</td>\n",
       "      <td>Positive</td>\n",
       "      <td>Positive</td>\n",
       "      <td>Negative</td>\n",
       "      <td>Other</td>\n",
       "      <td>01-Nov-19</td>\n",
       "      <td>04-Mar-20</td>\n",
       "      <td>Dead</td>\n",
       "    </tr>\n",
       "    <tr>\n",
       "      <th>331</th>\n",
       "      <td>TCGA-A1-A0SG</td>\n",
       "      <td>61</td>\n",
       "      <td>FEMALE</td>\n",
       "      <td>-0.71947</td>\n",
       "      <td>2.54850</td>\n",
       "      <td>-0.15024</td>\n",
       "      <td>0.339680</td>\n",
       "      <td>II</td>\n",
       "      <td>Infiltrating Ductal Carcinoma</td>\n",
       "      <td>Positive</td>\n",
       "      <td>Positive</td>\n",
       "      <td>Negative</td>\n",
       "      <td>Lumpectomy</td>\n",
       "      <td>11-Nov-19</td>\n",
       "      <td>18-Jan-21</td>\n",
       "      <td>Dead</td>\n",
       "    </tr>\n",
       "    <tr>\n",
       "      <th>332</th>\n",
       "      <td>TCGA-A2-A0EU</td>\n",
       "      <td>79</td>\n",
       "      <td>FEMALE</td>\n",
       "      <td>0.47940</td>\n",
       "      <td>2.05590</td>\n",
       "      <td>-0.53136</td>\n",
       "      <td>-0.188480</td>\n",
       "      <td>I</td>\n",
       "      <td>Infiltrating Ductal Carcinoma</td>\n",
       "      <td>Positive</td>\n",
       "      <td>Positive</td>\n",
       "      <td>Positive</td>\n",
       "      <td>Lumpectomy</td>\n",
       "      <td>21-Nov-19</td>\n",
       "      <td>19-Feb-21</td>\n",
       "      <td>Dead</td>\n",
       "    </tr>\n",
       "    <tr>\n",
       "      <th>333</th>\n",
       "      <td>TCGA-B6-A40B</td>\n",
       "      <td>76</td>\n",
       "      <td>FEMALE</td>\n",
       "      <td>-0.24427</td>\n",
       "      <td>0.92556</td>\n",
       "      <td>-0.41823</td>\n",
       "      <td>-0.067848</td>\n",
       "      <td>I</td>\n",
       "      <td>Infiltrating Ductal Carcinoma</td>\n",
       "      <td>Positive</td>\n",
       "      <td>Positive</td>\n",
       "      <td>Negative</td>\n",
       "      <td>Lumpectomy</td>\n",
       "      <td>11-Nov-19</td>\n",
       "      <td>05-Jan-21</td>\n",
       "      <td>Dead</td>\n",
       "    </tr>\n",
       "  </tbody>\n",
       "</table>\n",
       "</div>"
      ],
      "text/plain": [
       "       Patient_ID  Age  Gender  Protein1  Protein2  Protein3  Protein4  \\\n",
       "329  TCGA-AN-A04A   36  FEMALE   0.23180   0.61804  -0.55779 -0.517350   \n",
       "330  TCGA-A8-A085   44    MALE   0.73272   1.11170  -0.26952 -0.354920   \n",
       "331  TCGA-A1-A0SG   61  FEMALE  -0.71947   2.54850  -0.15024  0.339680   \n",
       "332  TCGA-A2-A0EU   79  FEMALE   0.47940   2.05590  -0.53136 -0.188480   \n",
       "333  TCGA-B6-A40B   76  FEMALE  -0.24427   0.92556  -0.41823 -0.067848   \n",
       "\n",
       "    Tumour_Stage                       Histology ER status PR status  \\\n",
       "329          III   Infiltrating Ductal Carcinoma  Positive  Positive   \n",
       "330           II  Infiltrating Lobular Carcinoma  Positive  Positive   \n",
       "331           II   Infiltrating Ductal Carcinoma  Positive  Positive   \n",
       "332            I   Infiltrating Ductal Carcinoma  Positive  Positive   \n",
       "333            I   Infiltrating Ductal Carcinoma  Positive  Positive   \n",
       "\n",
       "    HER2 status       Surgery_type Date_of_Surgery Date_of_Last_Visit  \\\n",
       "329    Positive  Simple Mastectomy       11-Nov-19          09-Feb-20   \n",
       "330    Negative              Other       01-Nov-19          04-Mar-20   \n",
       "331    Negative         Lumpectomy       11-Nov-19          18-Jan-21   \n",
       "332    Positive         Lumpectomy       21-Nov-19          19-Feb-21   \n",
       "333    Negative         Lumpectomy       11-Nov-19          05-Jan-21   \n",
       "\n",
       "    Patient_Status  \n",
       "329           Dead  \n",
       "330           Dead  \n",
       "331           Dead  \n",
       "332           Dead  \n",
       "333           Dead  "
      ]
     },
     "execution_count": 7,
     "metadata": {},
     "output_type": "execute_result"
    }
   ],
   "source": [
    "breast_cancer.tail()"
   ]
  },
  {
   "cell_type": "code",
   "execution_count": 8,
   "metadata": {},
   "outputs": [
    {
     "data": {
      "text/plain": [
       "(334, 16)"
      ]
     },
     "execution_count": 8,
     "metadata": {},
     "output_type": "execute_result"
    }
   ],
   "source": [
    "breast_cancer.shape"
   ]
  },
  {
   "cell_type": "code",
   "execution_count": 9,
   "metadata": {},
   "outputs": [
    {
     "data": {
      "text/plain": [
       "Index(['Patient_ID', 'Age', 'Gender', 'Protein1', 'Protein2', 'Protein3',\n",
       "       'Protein4', 'Tumour_Stage', 'Histology', 'ER status', 'PR status',\n",
       "       'HER2 status', 'Surgery_type', 'Date_of_Surgery', 'Date_of_Last_Visit',\n",
       "       'Patient_Status'],\n",
       "      dtype='object')"
      ]
     },
     "execution_count": 9,
     "metadata": {},
     "output_type": "execute_result"
    }
   ],
   "source": [
    "breast_cancer.columns"
   ]
  },
  {
   "cell_type": "code",
   "execution_count": 10,
   "metadata": {},
   "outputs": [
    {
     "name": "stdout",
     "output_type": "stream",
     "text": [
      "<class 'pandas.core.frame.DataFrame'>\n",
      "RangeIndex: 334 entries, 0 to 333\n",
      "Data columns (total 16 columns):\n",
      " #   Column              Non-Null Count  Dtype  \n",
      "---  ------              --------------  -----  \n",
      " 0   Patient_ID          334 non-null    object \n",
      " 1   Age                 334 non-null    int64  \n",
      " 2   Gender              334 non-null    object \n",
      " 3   Protein1            334 non-null    float64\n",
      " 4   Protein2            334 non-null    float64\n",
      " 5   Protein3            334 non-null    float64\n",
      " 6   Protein4            334 non-null    float64\n",
      " 7   Tumour_Stage        334 non-null    object \n",
      " 8   Histology           334 non-null    object \n",
      " 9   ER status           334 non-null    object \n",
      " 10  PR status           334 non-null    object \n",
      " 11  HER2 status         334 non-null    object \n",
      " 12  Surgery_type        334 non-null    object \n",
      " 13  Date_of_Surgery     334 non-null    object \n",
      " 14  Date_of_Last_Visit  317 non-null    object \n",
      " 15  Patient_Status      321 non-null    object \n",
      "dtypes: float64(4), int64(1), object(11)\n",
      "memory usage: 41.9+ KB\n"
     ]
    }
   ],
   "source": [
    "breast_cancer.info()"
   ]
  },
  {
   "cell_type": "code",
   "execution_count": 11,
   "metadata": {},
   "outputs": [
    {
     "data": {
      "text/html": [
       "<div>\n",
       "<style scoped>\n",
       "    .dataframe tbody tr th:only-of-type {\n",
       "        vertical-align: middle;\n",
       "    }\n",
       "\n",
       "    .dataframe tbody tr th {\n",
       "        vertical-align: top;\n",
       "    }\n",
       "\n",
       "    .dataframe thead th {\n",
       "        text-align: right;\n",
       "    }\n",
       "</style>\n",
       "<table border=\"1\" class=\"dataframe\">\n",
       "  <thead>\n",
       "    <tr style=\"text-align: right;\">\n",
       "      <th></th>\n",
       "      <th>Age</th>\n",
       "      <th>Protein1</th>\n",
       "      <th>Protein2</th>\n",
       "      <th>Protein3</th>\n",
       "      <th>Protein4</th>\n",
       "    </tr>\n",
       "  </thead>\n",
       "  <tbody>\n",
       "    <tr>\n",
       "      <th>count</th>\n",
       "      <td>334.000000</td>\n",
       "      <td>334.000000</td>\n",
       "      <td>334.000000</td>\n",
       "      <td>334.000000</td>\n",
       "      <td>334.000000</td>\n",
       "    </tr>\n",
       "    <tr>\n",
       "      <th>mean</th>\n",
       "      <td>58.886228</td>\n",
       "      <td>-0.029991</td>\n",
       "      <td>0.946896</td>\n",
       "      <td>-0.090204</td>\n",
       "      <td>0.009819</td>\n",
       "    </tr>\n",
       "    <tr>\n",
       "      <th>std</th>\n",
       "      <td>12.961212</td>\n",
       "      <td>0.563588</td>\n",
       "      <td>0.911637</td>\n",
       "      <td>0.585175</td>\n",
       "      <td>0.629055</td>\n",
       "    </tr>\n",
       "    <tr>\n",
       "      <th>min</th>\n",
       "      <td>29.000000</td>\n",
       "      <td>-2.340900</td>\n",
       "      <td>-0.978730</td>\n",
       "      <td>-1.627400</td>\n",
       "      <td>-2.025500</td>\n",
       "    </tr>\n",
       "    <tr>\n",
       "      <th>25%</th>\n",
       "      <td>49.000000</td>\n",
       "      <td>-0.358888</td>\n",
       "      <td>0.362173</td>\n",
       "      <td>-0.513748</td>\n",
       "      <td>-0.377090</td>\n",
       "    </tr>\n",
       "    <tr>\n",
       "      <th>50%</th>\n",
       "      <td>58.000000</td>\n",
       "      <td>0.006129</td>\n",
       "      <td>0.992805</td>\n",
       "      <td>-0.173180</td>\n",
       "      <td>0.041768</td>\n",
       "    </tr>\n",
       "    <tr>\n",
       "      <th>75%</th>\n",
       "      <td>68.000000</td>\n",
       "      <td>0.343598</td>\n",
       "      <td>1.627900</td>\n",
       "      <td>0.278353</td>\n",
       "      <td>0.425630</td>\n",
       "    </tr>\n",
       "    <tr>\n",
       "      <th>max</th>\n",
       "      <td>90.000000</td>\n",
       "      <td>1.593600</td>\n",
       "      <td>3.402200</td>\n",
       "      <td>2.193400</td>\n",
       "      <td>1.629900</td>\n",
       "    </tr>\n",
       "  </tbody>\n",
       "</table>\n",
       "</div>"
      ],
      "text/plain": [
       "              Age    Protein1    Protein2    Protein3    Protein4\n",
       "count  334.000000  334.000000  334.000000  334.000000  334.000000\n",
       "mean    58.886228   -0.029991    0.946896   -0.090204    0.009819\n",
       "std     12.961212    0.563588    0.911637    0.585175    0.629055\n",
       "min     29.000000   -2.340900   -0.978730   -1.627400   -2.025500\n",
       "25%     49.000000   -0.358888    0.362173   -0.513748   -0.377090\n",
       "50%     58.000000    0.006129    0.992805   -0.173180    0.041768\n",
       "75%     68.000000    0.343598    1.627900    0.278353    0.425630\n",
       "max     90.000000    1.593600    3.402200    2.193400    1.629900"
      ]
     },
     "execution_count": 11,
     "metadata": {},
     "output_type": "execute_result"
    }
   ],
   "source": [
    "breast_cancer.describe()"
   ]
  },
  {
   "cell_type": "code",
   "execution_count": 12,
   "metadata": {},
   "outputs": [
    {
     "data": {
      "text/plain": [
       "Patient_ID             0\n",
       "Age                    0\n",
       "Gender                 0\n",
       "Protein1               0\n",
       "Protein2               0\n",
       "Protein3               0\n",
       "Protein4               0\n",
       "Tumour_Stage           0\n",
       "Histology              0\n",
       "ER status              0\n",
       "PR status              0\n",
       "HER2 status            0\n",
       "Surgery_type           0\n",
       "Date_of_Surgery        0\n",
       "Date_of_Last_Visit    17\n",
       "Patient_Status        13\n",
       "dtype: int64"
      ]
     },
     "execution_count": 12,
     "metadata": {},
     "output_type": "execute_result"
    }
   ],
   "source": [
    "breast_cancer.isnull().sum()"
   ]
  },
  {
   "cell_type": "code",
   "execution_count": 13,
   "metadata": {},
   "outputs": [],
   "source": [
    "breast_cancer.dropna(inplace=True)"
   ]
  },
  {
   "cell_type": "code",
   "execution_count": 14,
   "metadata": {},
   "outputs": [
    {
     "data": {
      "text/plain": [
       "Patient_ID            0\n",
       "Age                   0\n",
       "Gender                0\n",
       "Protein1              0\n",
       "Protein2              0\n",
       "Protein3              0\n",
       "Protein4              0\n",
       "Tumour_Stage          0\n",
       "Histology             0\n",
       "ER status             0\n",
       "PR status             0\n",
       "HER2 status           0\n",
       "Surgery_type          0\n",
       "Date_of_Surgery       0\n",
       "Date_of_Last_Visit    0\n",
       "Patient_Status        0\n",
       "dtype: int64"
      ]
     },
     "execution_count": 14,
     "metadata": {},
     "output_type": "execute_result"
    }
   ],
   "source": [
    "breast_cancer.isnull().sum()"
   ]
  },
  {
   "cell_type": "code",
   "execution_count": 15,
   "metadata": {},
   "outputs": [
    {
     "data": {
      "text/plain": [
       "Patient_ID            317\n",
       "Age                    57\n",
       "Gender                  2\n",
       "Protein1              316\n",
       "Protein2              317\n",
       "Protein3              317\n",
       "Protein4              316\n",
       "Tumour_Stage            3\n",
       "Histology               3\n",
       "ER status               1\n",
       "PR status               1\n",
       "HER2 status             2\n",
       "Surgery_type            4\n",
       "Date_of_Surgery       178\n",
       "Date_of_Last_Visit    285\n",
       "Patient_Status          2\n",
       "dtype: int64"
      ]
     },
     "execution_count": 15,
     "metadata": {},
     "output_type": "execute_result"
    }
   ],
   "source": [
    "breast_cancer.nunique()"
   ]
  },
  {
   "cell_type": "code",
   "execution_count": 16,
   "metadata": {},
   "outputs": [
    {
     "data": {
      "text/plain": [
       "array(['FEMALE', 'MALE'], dtype=object)"
      ]
     },
     "execution_count": 16,
     "metadata": {},
     "output_type": "execute_result"
    }
   ],
   "source": [
    "breast_cancer.Gender.unique()"
   ]
  },
  {
   "cell_type": "code",
   "execution_count": 17,
   "metadata": {},
   "outputs": [
    {
     "data": {
      "text/plain": [
       "FEMALE    313\n",
       "MALE        4\n",
       "Name: Gender, dtype: int64"
      ]
     },
     "execution_count": 17,
     "metadata": {},
     "output_type": "execute_result"
    }
   ],
   "source": [
    "breast_cancer.Gender.value_counts()"
   ]
  },
  {
   "cell_type": "code",
   "execution_count": 18,
   "metadata": {},
   "outputs": [
    {
     "data": {
      "image/png": "[encoded data removed]",
      "text/plain": [
       "<Figure size 1080x432 with 1 Axes>"
      ]
     },
     "metadata": {
      "needs_background": "light"
     },
     "output_type": "display_data"
    }
   ],
   "source": [
    "plt.figure(figsize=(15,6))\n",
    "sns.countplot('Gender', data = breast_cancer)\n",
    "plt.xticks(rotation = 0)\n",
    "plt.show()"
   ]
  },
  {
   "cell_type": "code",
   "execution_count": 19,
   "metadata": {},
   "outputs": [
    {
     "data": {
      "image/png": "[encoded data removed]",
      "text/plain": [
       "<Figure size 1080x432 with 1 Axes>"
      ]
     },
     "metadata": {},
     "output_type": "display_data"
    }
   ],
   "source": [
    "plt.figure(figsize=(15,6))\n",
    "explode = [0.3,0.02]\n",
    "colors = sns.color_palette('bright')\n",
    "plt.pie(breast_cancer['Gender'].value_counts(), labels=['Female', 'Male'],\n",
    "colors = colors, autopct = '%0.0f%%', explode = explode, shadow = 'True',\n",
    "startangle = 90)\n",
    "plt.show()"
   ]
  },
  {
   "cell_type": "code",
   "execution_count": 20,
   "metadata": {},
   "outputs": [
    {
     "data": {
      "image/png": "[encoded data removed]",
      "text/plain": [
       "<Figure size 576x360 with 1 Axes>"
      ]
     },
     "metadata": {
      "needs_background": "light"
     },
     "output_type": "display_data"
    }
   ],
   "source": [
    "bins = list(range(20,105,5))\n",
    "plt.figure(figsize = (8,5))\n",
    "plt.hist(breast_cancer['Age'].astype(int), width = 4, align = 'mid',\n",
    "bins = bins, color = 'blue', edgecolor = 'black')\n",
    "plt.xticks(bins)\n",
    "plt.xlabel('Ages')\n",
    "plt.title('Ages in dataset')\n",
    "plt.yticks(np.arange(0,65,5))\n",
    "plt.show()"
   ]
  },
  {
   "cell_type": "code",
   "execution_count": 21,
   "metadata": {},
   "outputs": [
    {
     "data": {
      "text/plain": [
       "array(['Infiltrating Ductal Carcinoma', 'Mucinous Carcinoma',\n",
       "       'Infiltrating Lobular Carcinoma'], dtype=object)"
      ]
     },
     "execution_count": 21,
     "metadata": {},
     "output_type": "execute_result"
    }
   ],
   "source": [
    "breast_cancer.Histology.unique()"
   ]
  },
  {
   "cell_type": "code",
   "execution_count": 22,
   "metadata": {},
   "outputs": [
    {
     "data": {
      "text/plain": [
       "Infiltrating Ductal Carcinoma     224\n",
       "Infiltrating Lobular Carcinoma     81\n",
       "Mucinous Carcinoma                 12\n",
       "Name: Histology, dtype: int64"
      ]
     },
     "execution_count": 22,
     "metadata": {},
     "output_type": "execute_result"
    }
   ],
   "source": [
    "breast_cancer.Histology.value_counts()"
   ]
  },
  {
   "cell_type": "code",
   "execution_count": 23,
   "metadata": {},
   "outputs": [
    {
     "data": {
      "image/png": "[encoded data removed]",
      "text/plain": [
       "<Figure size 1080x432 with 1 Axes>"
      ]
     },
     "metadata": {
      "needs_background": "light"
     },
     "output_type": "display_data"
    }
   ],
   "source": [
    "plt.figure(figsize=(15,6))\n",
    "sns.countplot('Histology', data = breast_cancer)\n",
    "plt.xticks(rotation = 0)\n",
    "plt.show()"
   ]
  },
  {
   "cell_type": "code",
   "execution_count": 25,
   "metadata": {},
   "outputs": [
    {
     "data": {
      "image/png": "[encoded data removed]",
      "text/plain": [
       "<Figure size 1080x432 with 1 Axes>"
      ]
     },
     "metadata": {},
     "output_type": "display_data"
    }
   ],
   "source": [
    "plt.figure(figsize=(15,6))\n",
    "explode = [0.3,0.02, 0.01]\n",
    "colors = sns.color_palette('bright')\n",
    "plt.pie(breast_cancer['Histology'].value_counts(), labels=['Infiltrating Ductal Carcinom', \n",
    "                                                            'Mucinous Carcinoma',\n",
    "                                                            'Infiltrating Lobular Carcino'],\n",
    "                                                            colors = colors, autopct = '%0.0f%%',\n",
    "                                                            explode = explode, shadow = 'True',\n",
    "                                                            startangle = 90)\n",
    "plt.show()"
   ]
  },
  {
   "cell_type": "code",
   "execution_count": 26,
   "metadata": {},
   "outputs": [
    {
     "data": {
      "text/plain": [
       "array(['III', 'II', 'I'], dtype=object)"
      ]
     },
     "execution_count": 26,
     "metadata": {},
     "output_type": "execute_result"
    }
   ],
   "source": [
    "breast_cancer.Tumour_Stage.unique()"
   ]
  },
  {
   "cell_type": "code",
   "execution_count": 27,
   "metadata": {},
   "outputs": [
    {
     "data": {
      "text/plain": [
       "II     180\n",
       "III     77\n",
       "I       60\n",
       "Name: Tumour_Stage, dtype: int64"
      ]
     },
     "execution_count": 27,
     "metadata": {},
     "output_type": "execute_result"
    }
   ],
   "source": [
    "breast_cancer.Tumour_Stage.value_counts()"
   ]
  },
  {
   "cell_type": "code",
   "execution_count": 28,
   "metadata": {},
   "outputs": [
    {
     "data": {
      "image/png": "[encoded data removed]",
      "text/plain": [
       "<Figure size 1080x432 with 1 Axes>"
      ]
     },
     "metadata": {
      "needs_background": "light"
     },
     "output_type": "display_data"
    }
   ],
   "source": [
    "plt.figure(figsize=(15,6))\n",
    "sns.countplot('Tumour_Stage', data = breast_cancer)\n",
    "plt.xticks(rotation = 0)\n",
    "plt.show()"
   ]
  },
  {
   "cell_type": "code",
   "execution_count": 29,
   "metadata": {},
   "outputs": [
    {
     "ename": "SyntaxError",
     "evalue": "EOL while scanning string literal (207792230.py, line 2)",
     "output_type": "error",
     "traceback": [
      "\u001b[1;36m  Input \u001b[1;32mIn [29]\u001b[1;36m\u001b[0m\n\u001b[1;33m    as_index = False).agg(Total = ('Age\u001b[0m\n\u001b[1;37m                                       ^\u001b[0m\n\u001b[1;31mSyntaxError\u001b[0m\u001b[1;31m:\u001b[0m EOL while scanning string literal\n"
     ]
    }
   ],
   "source": [
    "breast_cancer_type_by_stage = (breast_cancer.groupby(['Histology', 'Tumour_Stage'],\n",
    "as_index = False).agg(Total = ('Age\n",
    "'cou\n",
    ")"
   ]
  },
  {
   "cell_type": "code",
   "execution_count": null,
   "metadata": {},
   "outputs": [],
   "source": []
  }
 ],
 "metadata": {
  "interpreter": {
   "hash": "78f499e638b180260314974c742cd0103cf7e397c22b4021a02426f6fead37c4"
  },
  "kernelspec": {
   "display_name": "Python 3.9.7 64-bit",
   "language": "python",
   "name": "python3"
  },
  "language_info": {
   "codemirror_mode": {
    "name": "ipython",
    "version": 3
   },
   "file_extension": ".py",
   "mimetype": "text/x-python",
   "name": "python",
   "nbconvert_exporter": "python",
   "pygments_lexer": "ipython3",
   "version": "3.9.7"
  },
  "orig_nbformat": 4
 },
 "nbformat": 4,
 "nbformat_minor": 2
}
